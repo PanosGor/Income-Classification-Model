{
 "cells": [
  {
   "cell_type": "code",
   "execution_count": 8,
   "id": "1b23a560",
   "metadata": {},
   "outputs": [],
   "source": [
    "import pandas as pd\n",
    "import numpy as np\n",
    "import matplotlib.pyplot as plt\n",
    "import seaborn as sns\n",
    "%matplotlib inline"
   ]
  },
  {
   "cell_type": "code",
   "execution_count": 9,
   "id": "b2de0d94",
   "metadata": {},
   "outputs": [],
   "source": [
    "def read_df(df_name):\n",
    "    features=['To_go','Age','Workclass','Final_Weight','Education','Education_Num','Marital_Status','Occupation','Relationship',\n",
    "         'Race','Sex','Capital_Gain','Capital_Loss','Hours_per_Week','Native_Country','Class'\n",
    "         ]\n",
    "    df=pd.read_csv(df_name,names=features, header=None,na_values=' ?')\n",
    "    df.drop('To_go',axis=1,inplace=True)\n",
    "    return df"
   ]
  },
  {
   "cell_type": "code",
   "execution_count": 10,
   "id": "aadb1f01",
   "metadata": {},
   "outputs": [],
   "source": [
    "df_train=read_df('train-project.data')\n",
    "df_test=read_df('test-project.data')"
   ]
  },
  {
   "cell_type": "code",
   "execution_count": 11,
   "id": "72f6b45b",
   "metadata": {},
   "outputs": [
    {
     "data": {
      "text/html": [
       "<div>\n",
       "<style scoped>\n",
       "    .dataframe tbody tr th:only-of-type {\n",
       "        vertical-align: middle;\n",
       "    }\n",
       "\n",
       "    .dataframe tbody tr th {\n",
       "        vertical-align: top;\n",
       "    }\n",
       "\n",
       "    .dataframe thead th {\n",
       "        text-align: right;\n",
       "    }\n",
       "</style>\n",
       "<table border=\"1\" class=\"dataframe\">\n",
       "  <thead>\n",
       "    <tr style=\"text-align: right;\">\n",
       "      <th></th>\n",
       "      <th>Age</th>\n",
       "      <th>Workclass</th>\n",
       "      <th>Final_Weight</th>\n",
       "      <th>Education</th>\n",
       "      <th>Education_Num</th>\n",
       "      <th>Marital_Status</th>\n",
       "      <th>Occupation</th>\n",
       "      <th>Relationship</th>\n",
       "      <th>Race</th>\n",
       "      <th>Sex</th>\n",
       "      <th>Capital_Gain</th>\n",
       "      <th>Capital_Loss</th>\n",
       "      <th>Hours_per_Week</th>\n",
       "      <th>Native_Country</th>\n",
       "      <th>Class</th>\n",
       "    </tr>\n",
       "  </thead>\n",
       "  <tbody>\n",
       "    <tr>\n",
       "      <th>0</th>\n",
       "      <td>39</td>\n",
       "      <td>State-gov</td>\n",
       "      <td>77516</td>\n",
       "      <td>Bachelors</td>\n",
       "      <td>13</td>\n",
       "      <td>Never-married</td>\n",
       "      <td>Adm-clerical</td>\n",
       "      <td>Not-in-family</td>\n",
       "      <td>White</td>\n",
       "      <td>Male</td>\n",
       "      <td>2174</td>\n",
       "      <td>0</td>\n",
       "      <td>40</td>\n",
       "      <td>United-States</td>\n",
       "      <td>&lt;=50K</td>\n",
       "    </tr>\n",
       "    <tr>\n",
       "      <th>1</th>\n",
       "      <td>60</td>\n",
       "      <td>Private</td>\n",
       "      <td>40856</td>\n",
       "      <td>Assoc-voc</td>\n",
       "      <td>11</td>\n",
       "      <td>Married-civ-spouse</td>\n",
       "      <td>Craft-repair</td>\n",
       "      <td>Husband</td>\n",
       "      <td>White</td>\n",
       "      <td>Male</td>\n",
       "      <td>0</td>\n",
       "      <td>0</td>\n",
       "      <td>46</td>\n",
       "      <td>United-States</td>\n",
       "      <td>&gt;50K</td>\n",
       "    </tr>\n",
       "    <tr>\n",
       "      <th>2</th>\n",
       "      <td>45</td>\n",
       "      <td>Private</td>\n",
       "      <td>289230</td>\n",
       "      <td>Bachelors</td>\n",
       "      <td>13</td>\n",
       "      <td>Divorced</td>\n",
       "      <td>Prof-specialty</td>\n",
       "      <td>Unmarried</td>\n",
       "      <td>White</td>\n",
       "      <td>Female</td>\n",
       "      <td>0</td>\n",
       "      <td>0</td>\n",
       "      <td>48</td>\n",
       "      <td>United-States</td>\n",
       "      <td>&gt;50K</td>\n",
       "    </tr>\n",
       "    <tr>\n",
       "      <th>3</th>\n",
       "      <td>26</td>\n",
       "      <td>Federal-gov</td>\n",
       "      <td>52322</td>\n",
       "      <td>Bachelors</td>\n",
       "      <td>13</td>\n",
       "      <td>Never-married</td>\n",
       "      <td>Tech-support</td>\n",
       "      <td>Not-in-family</td>\n",
       "      <td>Other</td>\n",
       "      <td>Male</td>\n",
       "      <td>0</td>\n",
       "      <td>0</td>\n",
       "      <td>60</td>\n",
       "      <td>United-States</td>\n",
       "      <td>&lt;=50K</td>\n",
       "    </tr>\n",
       "    <tr>\n",
       "      <th>4</th>\n",
       "      <td>35</td>\n",
       "      <td>Private</td>\n",
       "      <td>27408</td>\n",
       "      <td>Some-college</td>\n",
       "      <td>10</td>\n",
       "      <td>Never-married</td>\n",
       "      <td>Sales</td>\n",
       "      <td>Not-in-family</td>\n",
       "      <td>White</td>\n",
       "      <td>Male</td>\n",
       "      <td>0</td>\n",
       "      <td>0</td>\n",
       "      <td>40</td>\n",
       "      <td>United-States</td>\n",
       "      <td>&lt;=50K</td>\n",
       "    </tr>\n",
       "  </tbody>\n",
       "</table>\n",
       "</div>"
      ],
      "text/plain": [
       "   Age     Workclass  Final_Weight      Education  Education_Num  \\\n",
       "0   39     State-gov         77516      Bachelors             13   \n",
       "1   60       Private         40856      Assoc-voc             11   \n",
       "2   45       Private        289230      Bachelors             13   \n",
       "3   26   Federal-gov         52322      Bachelors             13   \n",
       "4   35       Private         27408   Some-college             10   \n",
       "\n",
       "        Marital_Status       Occupation    Relationship    Race      Sex  \\\n",
       "0        Never-married     Adm-clerical   Not-in-family   White     Male   \n",
       "1   Married-civ-spouse     Craft-repair         Husband   White     Male   \n",
       "2             Divorced   Prof-specialty       Unmarried   White   Female   \n",
       "3        Never-married     Tech-support   Not-in-family   Other     Male   \n",
       "4        Never-married            Sales   Not-in-family   White     Male   \n",
       "\n",
       "   Capital_Gain  Capital_Loss  Hours_per_Week  Native_Country   Class  \n",
       "0          2174             0              40   United-States   <=50K  \n",
       "1             0             0              46   United-States    >50K  \n",
       "2             0             0              48   United-States    >50K  \n",
       "3             0             0              60   United-States   <=50K  \n",
       "4             0             0              40   United-States   <=50K  "
      ]
     },
     "execution_count": 11,
     "metadata": {},
     "output_type": "execute_result"
    }
   ],
   "source": [
    "df_train.head()"
   ]
  },
  {
   "cell_type": "code",
   "execution_count": 12,
   "id": "6205518b",
   "metadata": {},
   "outputs": [
    {
     "data": {
      "text/html": [
       "<div>\n",
       "<style scoped>\n",
       "    .dataframe tbody tr th:only-of-type {\n",
       "        vertical-align: middle;\n",
       "    }\n",
       "\n",
       "    .dataframe tbody tr th {\n",
       "        vertical-align: top;\n",
       "    }\n",
       "\n",
       "    .dataframe thead th {\n",
       "        text-align: right;\n",
       "    }\n",
       "</style>\n",
       "<table border=\"1\" class=\"dataframe\">\n",
       "  <thead>\n",
       "    <tr style=\"text-align: right;\">\n",
       "      <th></th>\n",
       "      <th>Age</th>\n",
       "      <th>Workclass</th>\n",
       "      <th>Final_Weight</th>\n",
       "      <th>Education</th>\n",
       "      <th>Education_Num</th>\n",
       "      <th>Marital_Status</th>\n",
       "      <th>Occupation</th>\n",
       "      <th>Relationship</th>\n",
       "      <th>Race</th>\n",
       "      <th>Sex</th>\n",
       "      <th>Capital_Gain</th>\n",
       "      <th>Capital_Loss</th>\n",
       "      <th>Hours_per_Week</th>\n",
       "      <th>Native_Country</th>\n",
       "      <th>Class</th>\n",
       "    </tr>\n",
       "  </thead>\n",
       "  <tbody>\n",
       "    <tr>\n",
       "      <th>0</th>\n",
       "      <td>39</td>\n",
       "      <td>State-gov</td>\n",
       "      <td>77516</td>\n",
       "      <td>Bachelors</td>\n",
       "      <td>13</td>\n",
       "      <td>Never-married</td>\n",
       "      <td>Adm-clerical</td>\n",
       "      <td>Not-in-family</td>\n",
       "      <td>White</td>\n",
       "      <td>Male</td>\n",
       "      <td>2174</td>\n",
       "      <td>0</td>\n",
       "      <td>40</td>\n",
       "      <td>United-States</td>\n",
       "      <td>&lt;=50K</td>\n",
       "    </tr>\n",
       "    <tr>\n",
       "      <th>1</th>\n",
       "      <td>33</td>\n",
       "      <td>Private</td>\n",
       "      <td>182423</td>\n",
       "      <td>HS-grad</td>\n",
       "      <td>9</td>\n",
       "      <td>Divorced</td>\n",
       "      <td>Other-service</td>\n",
       "      <td>Unmarried</td>\n",
       "      <td>Black</td>\n",
       "      <td>Male</td>\n",
       "      <td>0</td>\n",
       "      <td>0</td>\n",
       "      <td>40</td>\n",
       "      <td>United-States</td>\n",
       "      <td>&lt;=50K</td>\n",
       "    </tr>\n",
       "    <tr>\n",
       "      <th>2</th>\n",
       "      <td>32</td>\n",
       "      <td>Private</td>\n",
       "      <td>178623</td>\n",
       "      <td>HS-grad</td>\n",
       "      <td>9</td>\n",
       "      <td>Never-married</td>\n",
       "      <td>Other-service</td>\n",
       "      <td>Not-in-family</td>\n",
       "      <td>Black</td>\n",
       "      <td>Female</td>\n",
       "      <td>0</td>\n",
       "      <td>0</td>\n",
       "      <td>40</td>\n",
       "      <td>NaN</td>\n",
       "      <td>&lt;=50K</td>\n",
       "    </tr>\n",
       "    <tr>\n",
       "      <th>3</th>\n",
       "      <td>39</td>\n",
       "      <td>Private</td>\n",
       "      <td>108540</td>\n",
       "      <td>HS-grad</td>\n",
       "      <td>9</td>\n",
       "      <td>Married-civ-spouse</td>\n",
       "      <td>Sales</td>\n",
       "      <td>Husband</td>\n",
       "      <td>White</td>\n",
       "      <td>Male</td>\n",
       "      <td>0</td>\n",
       "      <td>0</td>\n",
       "      <td>40</td>\n",
       "      <td>United-States</td>\n",
       "      <td>&lt;=50K</td>\n",
       "    </tr>\n",
       "    <tr>\n",
       "      <th>4</th>\n",
       "      <td>51</td>\n",
       "      <td>Private</td>\n",
       "      <td>21698</td>\n",
       "      <td>HS-grad</td>\n",
       "      <td>9</td>\n",
       "      <td>Never-married</td>\n",
       "      <td>Adm-clerical</td>\n",
       "      <td>Not-in-family</td>\n",
       "      <td>White</td>\n",
       "      <td>Female</td>\n",
       "      <td>0</td>\n",
       "      <td>0</td>\n",
       "      <td>40</td>\n",
       "      <td>United-States</td>\n",
       "      <td>&lt;=50K</td>\n",
       "    </tr>\n",
       "  </tbody>\n",
       "</table>\n",
       "</div>"
      ],
      "text/plain": [
       "   Age   Workclass  Final_Weight   Education  Education_Num  \\\n",
       "0   39   State-gov         77516   Bachelors             13   \n",
       "1   33     Private        182423     HS-grad              9   \n",
       "2   32     Private        178623     HS-grad              9   \n",
       "3   39     Private        108540     HS-grad              9   \n",
       "4   51     Private         21698     HS-grad              9   \n",
       "\n",
       "        Marital_Status      Occupation    Relationship    Race      Sex  \\\n",
       "0        Never-married    Adm-clerical   Not-in-family   White     Male   \n",
       "1             Divorced   Other-service       Unmarried   Black     Male   \n",
       "2        Never-married   Other-service   Not-in-family   Black   Female   \n",
       "3   Married-civ-spouse           Sales         Husband   White     Male   \n",
       "4        Never-married    Adm-clerical   Not-in-family   White   Female   \n",
       "\n",
       "   Capital_Gain  Capital_Loss  Hours_per_Week  Native_Country   Class  \n",
       "0          2174             0              40   United-States   <=50K  \n",
       "1             0             0              40   United-States   <=50K  \n",
       "2             0             0              40             NaN   <=50K  \n",
       "3             0             0              40   United-States   <=50K  \n",
       "4             0             0              40   United-States   <=50K  "
      ]
     },
     "execution_count": 12,
     "metadata": {},
     "output_type": "execute_result"
    }
   ],
   "source": [
    "df_test.head()"
   ]
  },
  {
   "cell_type": "code",
   "execution_count": 13,
   "id": "c5fec6f5",
   "metadata": {},
   "outputs": [
    {
     "name": "stdout",
     "output_type": "stream",
     "text": [
      "<class 'pandas.core.frame.DataFrame'>\n",
      "RangeIndex: 10000 entries, 0 to 9999\n",
      "Data columns (total 15 columns):\n",
      " #   Column          Non-Null Count  Dtype \n",
      "---  ------          --------------  ----- \n",
      " 0   Age             10000 non-null  int64 \n",
      " 1   Workclass       9416 non-null   object\n",
      " 2   Final_Weight    10000 non-null  int64 \n",
      " 3   Education       10000 non-null  object\n",
      " 4   Education_Num   10000 non-null  int64 \n",
      " 5   Marital_Status  10000 non-null  object\n",
      " 6   Occupation      9412 non-null   object\n",
      " 7   Relationship    10000 non-null  object\n",
      " 8   Race            10000 non-null  object\n",
      " 9   Sex             10000 non-null  object\n",
      " 10  Capital_Gain    10000 non-null  int64 \n",
      " 11  Capital_Loss    10000 non-null  int64 \n",
      " 12  Hours_per_Week  10000 non-null  int64 \n",
      " 13  Native_Country  9825 non-null   object\n",
      " 14  Class           10000 non-null  object\n",
      "dtypes: int64(6), object(9)\n",
      "memory usage: 1.1+ MB\n"
     ]
    }
   ],
   "source": [
    "df_train.info()"
   ]
  },
  {
   "cell_type": "code",
   "execution_count": 14,
   "id": "b8ccf286",
   "metadata": {},
   "outputs": [
    {
     "data": {
      "text/html": [
       "<div>\n",
       "<style scoped>\n",
       "    .dataframe tbody tr th:only-of-type {\n",
       "        vertical-align: middle;\n",
       "    }\n",
       "\n",
       "    .dataframe tbody tr th {\n",
       "        vertical-align: top;\n",
       "    }\n",
       "\n",
       "    .dataframe thead th {\n",
       "        text-align: right;\n",
       "    }\n",
       "</style>\n",
       "<table border=\"1\" class=\"dataframe\">\n",
       "  <thead>\n",
       "    <tr style=\"text-align: right;\">\n",
       "      <th></th>\n",
       "      <th>Age</th>\n",
       "      <th>Final_Weight</th>\n",
       "      <th>Education_Num</th>\n",
       "      <th>Capital_Gain</th>\n",
       "      <th>Capital_Loss</th>\n",
       "      <th>Hours_per_Week</th>\n",
       "    </tr>\n",
       "  </thead>\n",
       "  <tbody>\n",
       "    <tr>\n",
       "      <th>count</th>\n",
       "      <td>12561.000000</td>\n",
       "      <td>1.256100e+04</td>\n",
       "      <td>12561.000000</td>\n",
       "      <td>12561.000000</td>\n",
       "      <td>12561.000000</td>\n",
       "      <td>12561.000000</td>\n",
       "    </tr>\n",
       "    <tr>\n",
       "      <th>mean</th>\n",
       "      <td>38.556246</td>\n",
       "      <td>1.898323e+05</td>\n",
       "      <td>10.105565</td>\n",
       "      <td>1062.870791</td>\n",
       "      <td>88.918876</td>\n",
       "      <td>40.404984</td>\n",
       "    </tr>\n",
       "    <tr>\n",
       "      <th>std</th>\n",
       "      <td>13.599201</td>\n",
       "      <td>1.059444e+05</td>\n",
       "      <td>2.579439</td>\n",
       "      <td>7264.610038</td>\n",
       "      <td>406.916499</td>\n",
       "      <td>12.391108</td>\n",
       "    </tr>\n",
       "    <tr>\n",
       "      <th>min</th>\n",
       "      <td>17.000000</td>\n",
       "      <td>1.228500e+04</td>\n",
       "      <td>1.000000</td>\n",
       "      <td>0.000000</td>\n",
       "      <td>0.000000</td>\n",
       "      <td>1.000000</td>\n",
       "    </tr>\n",
       "    <tr>\n",
       "      <th>25%</th>\n",
       "      <td>28.000000</td>\n",
       "      <td>1.174440e+05</td>\n",
       "      <td>9.000000</td>\n",
       "      <td>0.000000</td>\n",
       "      <td>0.000000</td>\n",
       "      <td>40.000000</td>\n",
       "    </tr>\n",
       "    <tr>\n",
       "      <th>50%</th>\n",
       "      <td>37.000000</td>\n",
       "      <td>1.782070e+05</td>\n",
       "      <td>10.000000</td>\n",
       "      <td>0.000000</td>\n",
       "      <td>0.000000</td>\n",
       "      <td>40.000000</td>\n",
       "    </tr>\n",
       "    <tr>\n",
       "      <th>75%</th>\n",
       "      <td>47.000000</td>\n",
       "      <td>2.363210e+05</td>\n",
       "      <td>12.000000</td>\n",
       "      <td>0.000000</td>\n",
       "      <td>0.000000</td>\n",
       "      <td>45.000000</td>\n",
       "    </tr>\n",
       "    <tr>\n",
       "      <th>max</th>\n",
       "      <td>90.000000</td>\n",
       "      <td>1.366120e+06</td>\n",
       "      <td>16.000000</td>\n",
       "      <td>99999.000000</td>\n",
       "      <td>4356.000000</td>\n",
       "      <td>99.000000</td>\n",
       "    </tr>\n",
       "  </tbody>\n",
       "</table>\n",
       "</div>"
      ],
      "text/plain": [
       "                Age  Final_Weight  Education_Num  Capital_Gain  Capital_Loss  \\\n",
       "count  12561.000000  1.256100e+04   12561.000000  12561.000000  12561.000000   \n",
       "mean      38.556246  1.898323e+05      10.105565   1062.870791     88.918876   \n",
       "std       13.599201  1.059444e+05       2.579439   7264.610038    406.916499   \n",
       "min       17.000000  1.228500e+04       1.000000      0.000000      0.000000   \n",
       "25%       28.000000  1.174440e+05       9.000000      0.000000      0.000000   \n",
       "50%       37.000000  1.782070e+05      10.000000      0.000000      0.000000   \n",
       "75%       47.000000  2.363210e+05      12.000000      0.000000      0.000000   \n",
       "max       90.000000  1.366120e+06      16.000000  99999.000000   4356.000000   \n",
       "\n",
       "       Hours_per_Week  \n",
       "count    12561.000000  \n",
       "mean        40.404984  \n",
       "std         12.391108  \n",
       "min          1.000000  \n",
       "25%         40.000000  \n",
       "50%         40.000000  \n",
       "75%         45.000000  \n",
       "max         99.000000  "
      ]
     },
     "execution_count": 14,
     "metadata": {},
     "output_type": "execute_result"
    }
   ],
   "source": [
    "df_test.describe()"
   ]
  },
  {
   "cell_type": "code",
   "execution_count": 15,
   "id": "8bac3997",
   "metadata": {},
   "outputs": [
    {
     "data": {
      "text/plain": [
       "Text(0.5, 1.0, 'Train Data Visualisation')"
      ]
     },
     "execution_count": 15,
     "metadata": {},
     "output_type": "execute_result"
    },
    {
     "data": {
      "image/png": "[encoded data removed]",
      "text/plain": [
       "<Figure size 432x288 with 1 Axes>"
      ]
     },
     "metadata": {
      "needs_background": "light"
     },
     "output_type": "display_data"
    }
   ],
   "source": [
    "Train_Data_Vis=sns.heatmap(df_train.isnull(),yticklabels=False,cbar=False)\n",
    "Train_Data_Vis.set_title('Train Data Visualisation')\n",
    "#As we can see we have many Null values for Workclass, Occupation and Native_Country "
   ]
  },
  {
   "cell_type": "code",
   "execution_count": 16,
   "id": "054ca80e",
   "metadata": {},
   "outputs": [
    {
     "data": {
      "text/plain": [
       "Text(0.5, 1.0, 'Test Data Visualisation')"
      ]
     },
     "execution_count": 16,
     "metadata": {},
     "output_type": "execute_result"
    },
    {
     "data": {
      "image/png": "[encoded data removed]",
      "text/plain": [
       "<Figure size 432x288 with 1 Axes>"
      ]
     },
     "metadata": {
      "needs_background": "light"
     },
     "output_type": "display_data"
    }
   ],
   "source": [
    "Test_Data_Vis=sns.heatmap(df_test.isnull(),yticklabels=False,cbar=False)\n",
    "Test_Data_Vis.set_title('Test Data Visualisation')\n",
    "#As we can see we have many Null values for Workclass, Occupation and Native_Country "
   ]
  },
  {
   "cell_type": "code",
   "execution_count": 17,
   "id": "31414d4e",
   "metadata": {},
   "outputs": [
    {
     "name": "stdout",
     "output_type": "stream",
     "text": [
      "Number of rows for Train Data set 10000\n",
      "Number of rows for Test Data set 12561\n"
     ]
    }
   ],
   "source": [
    "#The total number of rows for the whole Train and Test datasets\n",
    "print(f\"Number of rows for Train Data set {df_train.shape[0]}\")\n",
    "print(f\"Number of rows for Test Data set {df_test.shape[0]}\")"
   ]
  },
  {
   "cell_type": "code",
   "execution_count": 18,
   "id": "53d06e9e",
   "metadata": {},
   "outputs": [],
   "source": [
    "#Creating a dataframe of only rows that contain at least one null value\n",
    "df_train_na=df_train[df_train.isnull().any(1)]\n",
    "df_test_na=df_test[df_test.isnull().any(1)]"
   ]
  },
  {
   "cell_type": "code",
   "execution_count": 19,
   "id": "042b32b5",
   "metadata": {},
   "outputs": [
    {
     "name": "stdout",
     "output_type": "stream",
     "text": [
      "Number of rows that contain null values for Train Data set 755\n",
      "Number of rows that contain null values for Test Data set 921\n"
     ]
    }
   ],
   "source": [
    "print(f\"Number of rows that contain null values for Train Data set {df_train_na.shape[0]}\")\n",
    "print(f\"Number of rows that contain null values for Test Data set {df_test_na.shape[0]}\")"
   ]
  },
  {
   "cell_type": "code",
   "execution_count": 20,
   "id": "e8ca73ac",
   "metadata": {},
   "outputs": [
    {
     "data": {
      "text/plain": [
       "<AxesSubplot:>"
      ]
     },
     "execution_count": 20,
     "metadata": {},
     "output_type": "execute_result"
    },
    {
     "data": {
      "image/png": "[encoded data removed]",
      "text/plain": [
       "<Figure size 432x288 with 1 Axes>"
      ]
     },
     "metadata": {
      "needs_background": "light"
     },
     "output_type": "display_data"
    }
   ],
   "source": [
    "sns.heatmap(df_train_na.isnull(),yticklabels=False,cbar=False,)\n",
    "#Visualization heatmap on the data with only null values for Train dataset"
   ]
  },
  {
   "cell_type": "code",
   "execution_count": 21,
   "id": "ebc36559",
   "metadata": {},
   "outputs": [
    {
     "data": {
      "text/plain": [
       "<AxesSubplot:>"
      ]
     },
     "execution_count": 21,
     "metadata": {},
     "output_type": "execute_result"
    },
    {
     "data": {
      "image/png": "[encoded data removed]",
      "text/plain": [
       "<Figure size 432x288 with 1 Axes>"
      ]
     },
     "metadata": {
      "needs_background": "light"
     },
     "output_type": "display_data"
    }
   ],
   "source": [
    "sns.heatmap(df_test_na.isnull(),yticklabels=False,cbar=False)\n",
    "#Visualization heatmap on the data with only null values for Test dataset"
   ]
  },
  {
   "cell_type": "code",
   "execution_count": 22,
   "id": "4554b53b",
   "metadata": {},
   "outputs": [
    {
     "name": "stdout",
     "output_type": "stream",
     "text": [
      "Percentage of null values in Train dataset 7.55 %\n",
      "Percentage of null values in Test dataset 7.33 %\n"
     ]
    }
   ],
   "source": [
    "print(f\"Percentage of null values in Train dataset {(df_train_na.shape[0]/df_train.shape[0])*100} %\")\n",
    "print(f\"Percentage of null values in Test dataset {round((df_test_na.shape[0]/df_test.shape[0])*100,2)} %\")"
   ]
  },
  {
   "cell_type": "code",
   "execution_count": 23,
   "id": "47e19865",
   "metadata": {},
   "outputs": [],
   "source": [
    "#Because the percentage of the rows that contain at least one null value is small for both Train and Test datasets\n",
    "#and because these values are categorical (only identified in columns: Workclass, Occupation, Native_Country)\n",
    "#it is not easy to be replaced by a value (mean,median)\n",
    "#The best approach was decided to be for these rows to be removed from the dataset completely\n",
    "df_train_2=df_train.dropna()\n",
    "df_test_2=df_test.dropna()"
   ]
  },
  {
   "cell_type": "code",
   "execution_count": 24,
   "id": "96d3591a",
   "metadata": {},
   "outputs": [
    {
     "data": {
      "text/plain": [
       "Text(0.5, 1.0, 'Train Data Visualisation after removing Nulls')"
      ]
     },
     "execution_count": 24,
     "metadata": {},
     "output_type": "execute_result"
    },
    {
     "data": {
      "image/png": "[encoded data removed]",
      "text/plain": [
       "<Figure size 432x288 with 1 Axes>"
      ]
     },
     "metadata": {
      "needs_background": "light"
     },
     "output_type": "display_data"
    }
   ],
   "source": [
    "Train_Data_Vis_2=sns.heatmap(df_train_2.isnull(),yticklabels=False,cbar=False)\n",
    "Train_Data_Vis_2.set_title('Train Data Visualisation after removing Nulls')\n",
    "#As we can see we have no Null values for Workclass, Occupation and Native_Country "
   ]
  },
  {
   "cell_type": "code",
   "execution_count": 25,
   "id": "1b09993d",
   "metadata": {},
   "outputs": [
    {
     "data": {
      "text/plain": [
       "Text(0.5, 1.0, 'Test Data Visualisation after removing Nulls')"
      ]
     },
     "execution_count": 25,
     "metadata": {},
     "output_type": "execute_result"
    },
    {
     "data": {
      "image/png": "[encoded data removed]",
      "text/plain": [
       "<Figure size 432x288 with 1 Axes>"
      ]
     },
     "metadata": {
      "needs_background": "light"
     },
     "output_type": "display_data"
    }
   ],
   "source": [
    "Test_Data_Vis_2=sns.heatmap(df_test_2.isnull(),yticklabels=False,cbar=False)\n",
    "Test_Data_Vis_2.set_title('Test Data Visualisation after removing Nulls')\n",
    "#As we can see we have no Null values for Workclass, Occupation and Native_Country "
   ]
  },
  {
   "cell_type": "code",
   "execution_count": 26,
   "id": "3fe8abce",
   "metadata": {},
   "outputs": [
    {
     "name": "stdout",
     "output_type": "stream",
     "text": [
      "Number of rows for Train Data set after removing nulls 9245\n",
      "Number of rows for Test Data set after removing nulls 11640\n"
     ]
    }
   ],
   "source": [
    "#The total number of rows for the whole Train and Test datasets\n",
    "print(f\"Number of rows for Train Data set after removing nulls {df_train_2.shape[0]}\")\n",
    "print(f\"Number of rows for Test Data set after removing nulls {df_test_2.shape[0]}\")"
   ]
  },
  {
   "cell_type": "code",
   "execution_count": 27,
   "id": "5040261e",
   "metadata": {},
   "outputs": [],
   "source": [
    "#Next we need to check our datasets for inbalances that means that the number of observations of the\n",
    "# <=50k class is equal to the number of observations for the >50k class\n",
    "#Class_0 = <=50k\n",
    "#Class_1 = >50k\n",
    "df_class_train=df_train_2['Class']\n",
    "Class_0_df=df_class_train[df_class_train==' <=50K']\n",
    "Class_1_df=df_class_train[df_class_train==' >50K']"
   ]
  },
  {
   "cell_type": "code",
   "execution_count": 28,
   "id": "0a82f9c1",
   "metadata": {},
   "outputs": [
    {
     "name": "stdout",
     "output_type": "stream",
     "text": [
      "Number of Observations Below 50K for Train Dataset is 6943, Percentage: 75.1 %\n",
      "Number of Observations Above 50K for Train Dataset is 2302, Percentage: 24.9 %\n"
     ]
    }
   ],
   "source": [
    "print(f\"Number of Observations Below 50K for Train Dataset is {Class_0_df.shape[0]}, Percentage: {round((Class_0_df.shape[0]/df_class_train.shape[0])*100,2)} %\")\n",
    "print(f\"Number of Observations Above 50K for Train Dataset is {Class_1_df.shape[0]}, Percentage: {round((Class_1_df.shape[0]/df_class_train.shape[0])*100,2)} %\")\n",
    "#We can clearly see that the dataset is inbalanced as 75% of the data belong to class 0 \n",
    "#and 25% belong to class 1 "
   ]
  },
  {
   "cell_type": "code",
   "execution_count": 29,
   "id": "6f7e350a",
   "metadata": {},
   "outputs": [],
   "source": [
    "#The whole methodology above was summarized in a function\n",
    "def inbalances_check(df,data_name):\n",
    "    df_class=df['Class']\n",
    "    Class_0=df_class[df_class==' <=50K']\n",
    "    Class_1=df_class[df_class==' >50K']\n",
    "    print(f\"Number of Observations Below 50K for {data_name} Dataset {Class_0.shape[0]} Percentage: {round((Class_0.shape[0]/df_class.shape[0])*100,2)} %\")\n",
    "    print(f\"Number of Observations Above 50K for {data_name} Dataset {Class_1.shape[0]} Percentage: {round((Class_1.shape[0]/df_class.shape[0])*100,2)} %\")\n",
    "    return Class_0.shape[0],Class_1.shape[0]"
   ]
  },
  {
   "cell_type": "code",
   "execution_count": 30,
   "id": "06c04c7b",
   "metadata": {},
   "outputs": [
    {
     "name": "stdout",
     "output_type": "stream",
     "text": [
      "Number of Observations Below 50K for Train Dataset 6943 Percentage: 75.1 %\n",
      "Number of Observations Above 50K for Train Dataset 2302 Percentage: 24.9 %\n",
      "\n",
      "\n",
      "Number of Observations Below 50K for Test Dataset 8760 Percentage: 75.26 %\n",
      "Number of Observations Above 50K for Test Dataset 2880 Percentage: 24.74 %\n"
     ]
    }
   ],
   "source": [
    "Class_0_train,Class_1_train=inbalances_check(df_train_2,'Train')\n",
    "print(\"\\n\")\n",
    "Class_0_test,Class_1_test=inbalances_check(df_test_2,'Test')"
   ]
  },
  {
   "cell_type": "code",
   "execution_count": 31,
   "id": "4b4479b9",
   "metadata": {},
   "outputs": [
    {
     "data": {
      "text/html": [
       "<div>\n",
       "<style scoped>\n",
       "    .dataframe tbody tr th:only-of-type {\n",
       "        vertical-align: middle;\n",
       "    }\n",
       "\n",
       "    .dataframe tbody tr th {\n",
       "        vertical-align: top;\n",
       "    }\n",
       "\n",
       "    .dataframe thead th {\n",
       "        text-align: right;\n",
       "    }\n",
       "</style>\n",
       "<table border=\"1\" class=\"dataframe\">\n",
       "  <thead>\n",
       "    <tr style=\"text-align: right;\">\n",
       "      <th></th>\n",
       "      <th>Age</th>\n",
       "      <th>Workclass</th>\n",
       "      <th>Final_Weight</th>\n",
       "      <th>Education</th>\n",
       "      <th>Education_Num</th>\n",
       "      <th>Marital_Status</th>\n",
       "      <th>Occupation</th>\n",
       "      <th>Relationship</th>\n",
       "      <th>Race</th>\n",
       "      <th>Sex</th>\n",
       "      <th>Capital_Gain</th>\n",
       "      <th>Capital_Loss</th>\n",
       "      <th>Hours_per_Week</th>\n",
       "      <th>Native_Country</th>\n",
       "      <th>Class</th>\n",
       "    </tr>\n",
       "  </thead>\n",
       "  <tbody>\n",
       "    <tr>\n",
       "      <th>0</th>\n",
       "      <td>39</td>\n",
       "      <td>State-gov</td>\n",
       "      <td>77516</td>\n",
       "      <td>Bachelors</td>\n",
       "      <td>13</td>\n",
       "      <td>Never-married</td>\n",
       "      <td>Adm-clerical</td>\n",
       "      <td>Not-in-family</td>\n",
       "      <td>White</td>\n",
       "      <td>Male</td>\n",
       "      <td>2174</td>\n",
       "      <td>0</td>\n",
       "      <td>40</td>\n",
       "      <td>United-States</td>\n",
       "      <td>&lt;=50K</td>\n",
       "    </tr>\n",
       "    <tr>\n",
       "      <th>1</th>\n",
       "      <td>60</td>\n",
       "      <td>Private</td>\n",
       "      <td>40856</td>\n",
       "      <td>Assoc-voc</td>\n",
       "      <td>11</td>\n",
       "      <td>Married-civ-spouse</td>\n",
       "      <td>Craft-repair</td>\n",
       "      <td>Husband</td>\n",
       "      <td>White</td>\n",
       "      <td>Male</td>\n",
       "      <td>0</td>\n",
       "      <td>0</td>\n",
       "      <td>46</td>\n",
       "      <td>United-States</td>\n",
       "      <td>&gt;50K</td>\n",
       "    </tr>\n",
       "    <tr>\n",
       "      <th>2</th>\n",
       "      <td>45</td>\n",
       "      <td>Private</td>\n",
       "      <td>289230</td>\n",
       "      <td>Bachelors</td>\n",
       "      <td>13</td>\n",
       "      <td>Divorced</td>\n",
       "      <td>Prof-specialty</td>\n",
       "      <td>Unmarried</td>\n",
       "      <td>White</td>\n",
       "      <td>Female</td>\n",
       "      <td>0</td>\n",
       "      <td>0</td>\n",
       "      <td>48</td>\n",
       "      <td>United-States</td>\n",
       "      <td>&gt;50K</td>\n",
       "    </tr>\n",
       "    <tr>\n",
       "      <th>3</th>\n",
       "      <td>26</td>\n",
       "      <td>Federal-gov</td>\n",
       "      <td>52322</td>\n",
       "      <td>Bachelors</td>\n",
       "      <td>13</td>\n",
       "      <td>Never-married</td>\n",
       "      <td>Tech-support</td>\n",
       "      <td>Not-in-family</td>\n",
       "      <td>Other</td>\n",
       "      <td>Male</td>\n",
       "      <td>0</td>\n",
       "      <td>0</td>\n",
       "      <td>60</td>\n",
       "      <td>United-States</td>\n",
       "      <td>&lt;=50K</td>\n",
       "    </tr>\n",
       "    <tr>\n",
       "      <th>4</th>\n",
       "      <td>35</td>\n",
       "      <td>Private</td>\n",
       "      <td>27408</td>\n",
       "      <td>Some-college</td>\n",
       "      <td>10</td>\n",
       "      <td>Never-married</td>\n",
       "      <td>Sales</td>\n",
       "      <td>Not-in-family</td>\n",
       "      <td>White</td>\n",
       "      <td>Male</td>\n",
       "      <td>0</td>\n",
       "      <td>0</td>\n",
       "      <td>40</td>\n",
       "      <td>United-States</td>\n",
       "      <td>&lt;=50K</td>\n",
       "    </tr>\n",
       "  </tbody>\n",
       "</table>\n",
       "</div>"
      ],
      "text/plain": [
       "   Age     Workclass  Final_Weight      Education  Education_Num  \\\n",
       "0   39     State-gov         77516      Bachelors             13   \n",
       "1   60       Private         40856      Assoc-voc             11   \n",
       "2   45       Private        289230      Bachelors             13   \n",
       "3   26   Federal-gov         52322      Bachelors             13   \n",
       "4   35       Private         27408   Some-college             10   \n",
       "\n",
       "        Marital_Status       Occupation    Relationship    Race      Sex  \\\n",
       "0        Never-married     Adm-clerical   Not-in-family   White     Male   \n",
       "1   Married-civ-spouse     Craft-repair         Husband   White     Male   \n",
       "2             Divorced   Prof-specialty       Unmarried   White   Female   \n",
       "3        Never-married     Tech-support   Not-in-family   Other     Male   \n",
       "4        Never-married            Sales   Not-in-family   White     Male   \n",
       "\n",
       "   Capital_Gain  Capital_Loss  Hours_per_Week  Native_Country   Class  \n",
       "0          2174             0              40   United-States   <=50K  \n",
       "1             0             0              46   United-States    >50K  \n",
       "2             0             0              48   United-States    >50K  \n",
       "3             0             0              60   United-States   <=50K  \n",
       "4             0             0              40   United-States   <=50K  "
      ]
     },
     "execution_count": 31,
     "metadata": {},
     "output_type": "execute_result"
    }
   ],
   "source": [
    "df_train_2.head()"
   ]
  },
  {
   "cell_type": "code",
   "execution_count": 32,
   "id": "1eaa6043",
   "metadata": {},
   "outputs": [
    {
     "name": "stdout",
     "output_type": "stream",
     "text": [
      "Workclass, 7 labels\n",
      "Education, 16 labels\n",
      "Marital_Status, 7 labels\n",
      "Occupation, 14 labels\n",
      "Relationship, 6 labels\n",
      "Race, 5 labels\n",
      "Native_Country, 40 labels\n"
     ]
    }
   ],
   "source": [
    "#Number of labels per categorical column\n",
    "categorical_col=['Workclass','Education','Marital_Status','Occupation','Relationship','Race','Native_Country']\n",
    "for cat in categorical_col:\n",
    "    print(f\"{cat}, {len(df_train_2[cat].unique())} labels\")"
   ]
  },
  {
   "cell_type": "code",
   "execution_count": 33,
   "id": "04631740",
   "metadata": {},
   "outputs": [],
   "source": [
    "ohe_df_train=pd.get_dummies(df_train_2)"
   ]
  },
  {
   "cell_type": "code",
   "execution_count": 34,
   "id": "62da1463",
   "metadata": {},
   "outputs": [
    {
     "data": {
      "text/html": [
       "<div>\n",
       "<style scoped>\n",
       "    .dataframe tbody tr th:only-of-type {\n",
       "        vertical-align: middle;\n",
       "    }\n",
       "\n",
       "    .dataframe tbody tr th {\n",
       "        vertical-align: top;\n",
       "    }\n",
       "\n",
       "    .dataframe thead th {\n",
       "        text-align: right;\n",
       "    }\n",
       "</style>\n",
       "<table border=\"1\" class=\"dataframe\">\n",
       "  <thead>\n",
       "    <tr style=\"text-align: right;\">\n",
       "      <th></th>\n",
       "      <th>Age</th>\n",
       "      <th>Final_Weight</th>\n",
       "      <th>Education_Num</th>\n",
       "      <th>Capital_Gain</th>\n",
       "      <th>Capital_Loss</th>\n",
       "      <th>Hours_per_Week</th>\n",
       "      <th>Workclass_ Federal-gov</th>\n",
       "      <th>Workclass_ Local-gov</th>\n",
       "      <th>Workclass_ Private</th>\n",
       "      <th>Workclass_ Self-emp-inc</th>\n",
       "      <th>...</th>\n",
       "      <th>Native_Country_ Scotland</th>\n",
       "      <th>Native_Country_ South</th>\n",
       "      <th>Native_Country_ Taiwan</th>\n",
       "      <th>Native_Country_ Thailand</th>\n",
       "      <th>Native_Country_ Trinadad&amp;Tobago</th>\n",
       "      <th>Native_Country_ United-States</th>\n",
       "      <th>Native_Country_ Vietnam</th>\n",
       "      <th>Native_Country_ Yugoslavia</th>\n",
       "      <th>Class_ &lt;=50K</th>\n",
       "      <th>Class_ &gt;50K</th>\n",
       "    </tr>\n",
       "  </thead>\n",
       "  <tbody>\n",
       "    <tr>\n",
       "      <th>0</th>\n",
       "      <td>39</td>\n",
       "      <td>77516</td>\n",
       "      <td>13</td>\n",
       "      <td>2174</td>\n",
       "      <td>0</td>\n",
       "      <td>40</td>\n",
       "      <td>0</td>\n",
       "      <td>0</td>\n",
       "      <td>0</td>\n",
       "      <td>0</td>\n",
       "      <td>...</td>\n",
       "      <td>0</td>\n",
       "      <td>0</td>\n",
       "      <td>0</td>\n",
       "      <td>0</td>\n",
       "      <td>0</td>\n",
       "      <td>1</td>\n",
       "      <td>0</td>\n",
       "      <td>0</td>\n",
       "      <td>1</td>\n",
       "      <td>0</td>\n",
       "    </tr>\n",
       "    <tr>\n",
       "      <th>1</th>\n",
       "      <td>60</td>\n",
       "      <td>40856</td>\n",
       "      <td>11</td>\n",
       "      <td>0</td>\n",
       "      <td>0</td>\n",
       "      <td>46</td>\n",
       "      <td>0</td>\n",
       "      <td>0</td>\n",
       "      <td>1</td>\n",
       "      <td>0</td>\n",
       "      <td>...</td>\n",
       "      <td>0</td>\n",
       "      <td>0</td>\n",
       "      <td>0</td>\n",
       "      <td>0</td>\n",
       "      <td>0</td>\n",
       "      <td>1</td>\n",
       "      <td>0</td>\n",
       "      <td>0</td>\n",
       "      <td>0</td>\n",
       "      <td>1</td>\n",
       "    </tr>\n",
       "    <tr>\n",
       "      <th>2</th>\n",
       "      <td>45</td>\n",
       "      <td>289230</td>\n",
       "      <td>13</td>\n",
       "      <td>0</td>\n",
       "      <td>0</td>\n",
       "      <td>48</td>\n",
       "      <td>0</td>\n",
       "      <td>0</td>\n",
       "      <td>1</td>\n",
       "      <td>0</td>\n",
       "      <td>...</td>\n",
       "      <td>0</td>\n",
       "      <td>0</td>\n",
       "      <td>0</td>\n",
       "      <td>0</td>\n",
       "      <td>0</td>\n",
       "      <td>1</td>\n",
       "      <td>0</td>\n",
       "      <td>0</td>\n",
       "      <td>0</td>\n",
       "      <td>1</td>\n",
       "    </tr>\n",
       "    <tr>\n",
       "      <th>3</th>\n",
       "      <td>26</td>\n",
       "      <td>52322</td>\n",
       "      <td>13</td>\n",
       "      <td>0</td>\n",
       "      <td>0</td>\n",
       "      <td>60</td>\n",
       "      <td>1</td>\n",
       "      <td>0</td>\n",
       "      <td>0</td>\n",
       "      <td>0</td>\n",
       "      <td>...</td>\n",
       "      <td>0</td>\n",
       "      <td>0</td>\n",
       "      <td>0</td>\n",
       "      <td>0</td>\n",
       "      <td>0</td>\n",
       "      <td>1</td>\n",
       "      <td>0</td>\n",
       "      <td>0</td>\n",
       "      <td>1</td>\n",
       "      <td>0</td>\n",
       "    </tr>\n",
       "    <tr>\n",
       "      <th>4</th>\n",
       "      <td>35</td>\n",
       "      <td>27408</td>\n",
       "      <td>10</td>\n",
       "      <td>0</td>\n",
       "      <td>0</td>\n",
       "      <td>40</td>\n",
       "      <td>0</td>\n",
       "      <td>0</td>\n",
       "      <td>1</td>\n",
       "      <td>0</td>\n",
       "      <td>...</td>\n",
       "      <td>0</td>\n",
       "      <td>0</td>\n",
       "      <td>0</td>\n",
       "      <td>0</td>\n",
       "      <td>0</td>\n",
       "      <td>1</td>\n",
       "      <td>0</td>\n",
       "      <td>0</td>\n",
       "      <td>1</td>\n",
       "      <td>0</td>\n",
       "    </tr>\n",
       "  </tbody>\n",
       "</table>\n",
       "<p>5 rows × 105 columns</p>\n",
       "</div>"
      ],
      "text/plain": [
       "   Age  Final_Weight  Education_Num  Capital_Gain  Capital_Loss  \\\n",
       "0   39         77516             13          2174             0   \n",
       "1   60         40856             11             0             0   \n",
       "2   45        289230             13             0             0   \n",
       "3   26         52322             13             0             0   \n",
       "4   35         27408             10             0             0   \n",
       "\n",
       "   Hours_per_Week  Workclass_ Federal-gov  Workclass_ Local-gov  \\\n",
       "0              40                       0                     0   \n",
       "1              46                       0                     0   \n",
       "2              48                       0                     0   \n",
       "3              60                       1                     0   \n",
       "4              40                       0                     0   \n",
       "\n",
       "   Workclass_ Private  Workclass_ Self-emp-inc  ...  Native_Country_ Scotland  \\\n",
       "0                   0                        0  ...                         0   \n",
       "1                   1                        0  ...                         0   \n",
       "2                   1                        0  ...                         0   \n",
       "3                   0                        0  ...                         0   \n",
       "4                   1                        0  ...                         0   \n",
       "\n",
       "   Native_Country_ South  Native_Country_ Taiwan  Native_Country_ Thailand  \\\n",
       "0                      0                       0                         0   \n",
       "1                      0                       0                         0   \n",
       "2                      0                       0                         0   \n",
       "3                      0                       0                         0   \n",
       "4                      0                       0                         0   \n",
       "\n",
       "   Native_Country_ Trinadad&Tobago  Native_Country_ United-States  \\\n",
       "0                                0                              1   \n",
       "1                                0                              1   \n",
       "2                                0                              1   \n",
       "3                                0                              1   \n",
       "4                                0                              1   \n",
       "\n",
       "   Native_Country_ Vietnam  Native_Country_ Yugoslavia  Class_ <=50K  \\\n",
       "0                        0                           0             1   \n",
       "1                        0                           0             0   \n",
       "2                        0                           0             0   \n",
       "3                        0                           0             1   \n",
       "4                        0                           0             1   \n",
       "\n",
       "   Class_ >50K  \n",
       "0            0  \n",
       "1            1  \n",
       "2            1  \n",
       "3            0  \n",
       "4            0  \n",
       "\n",
       "[5 rows x 105 columns]"
      ]
     },
     "execution_count": 34,
     "metadata": {},
     "output_type": "execute_result"
    }
   ],
   "source": [
    "ohe_df_train.head()"
   ]
  },
  {
   "cell_type": "code",
   "execution_count": 35,
   "id": "95d03792",
   "metadata": {},
   "outputs": [
    {
     "name": "stdout",
     "output_type": "stream",
     "text": [
      "df shape before One hot encoding: (9245, 15)\n",
      "df shape after One hot encoding: (9245, 105)\n"
     ]
    }
   ],
   "source": [
    "#As can be seen after one hot encoding 90 extra columns were added into the df increasing the dimensions\n",
    "print(f\"df shape before One hot encoding: {df_train_2.shape}\")\n",
    "print(f\"df shape after One hot encoding: {ohe_df_train.shape}\")"
   ]
  },
  {
   "cell_type": "code",
   "execution_count": 36,
   "id": "b2a07907",
   "metadata": {},
   "outputs": [],
   "source": [
    "def plot_column_distr(df,column):\n",
    "    check_col=df[column].value_counts().sort_values(ascending=False)\n",
    "    check_col.plot(kind=\"bar\",figsize=(25, 15))"
   ]
  },
  {
   "cell_type": "code",
   "execution_count": 37,
   "id": "0fda5234",
   "metadata": {},
   "outputs": [
    {
     "data": {
      "image/png": "[encoded data removed]",
      "text/plain": [
       "<Figure size 1800x1080 with 1 Axes>"
      ]
     },
     "metadata": {
      "needs_background": "light"
     },
     "output_type": "display_data"
    }
   ],
   "source": [
    "#We can see that Native_Country, Education and Occupation have the most categories (>10)\n",
    "plot_column_distr(df_train_2,\"Native_Country\")"
   ]
  },
  {
   "cell_type": "code",
   "execution_count": 38,
   "id": "7989fb77",
   "metadata": {},
   "outputs": [
    {
     "data": {
      "image/png": "[encoded data removed]",
      "text/plain": [
       "<Figure size 1800x1080 with 1 Axes>"
      ]
     },
     "metadata": {
      "needs_background": "light"
     },
     "output_type": "display_data"
    }
   ],
   "source": [
    "plot_column_distr(df_train_2,\"Education\")"
   ]
  },
  {
   "cell_type": "code",
   "execution_count": 39,
   "id": "6133e727",
   "metadata": {},
   "outputs": [
    {
     "data": {
      "image/png": "[encoded data removed]",
      "text/plain": [
       "<Figure size 1800x1080 with 1 Axes>"
      ]
     },
     "metadata": {
      "needs_background": "light"
     },
     "output_type": "display_data"
    }
   ],
   "source": [
    "plot_column_distr(df_train_2,\"Occupation\")"
   ]
  },
  {
   "cell_type": "code",
   "execution_count": 40,
   "id": "564d461c",
   "metadata": {},
   "outputs": [
    {
     "data": {
      "image/png": "[encoded data removed]",
      "text/plain": [
       "<Figure size 1800x1080 with 1 Axes>"
      ]
     },
     "metadata": {
      "needs_background": "light"
     },
     "output_type": "display_data"
    }
   ],
   "source": [
    "plot_column_distr(df_train_2,\"Relationship\")"
   ]
  },
  {
   "cell_type": "code",
   "execution_count": 41,
   "id": "8f9f20db",
   "metadata": {},
   "outputs": [
    {
     "data": {
      "image/png": "[encoded data removed]",
      "text/plain": [
       "<Figure size 1800x1080 with 1 Axes>"
      ]
     },
     "metadata": {
      "needs_background": "light"
     },
     "output_type": "display_data"
    }
   ],
   "source": [
    "plot_column_distr(df_train_2,\"Race\")"
   ]
  },
  {
   "cell_type": "code",
   "execution_count": 42,
   "id": "bbb0df99",
   "metadata": {},
   "outputs": [
    {
     "data": {
      "image/png": "[encoded data removed]",
      "text/plain": [
       "<Figure size 1800x1080 with 1 Axes>"
      ]
     },
     "metadata": {
      "needs_background": "light"
     },
     "output_type": "display_data"
    }
   ],
   "source": [
    "plot_column_distr(df_train_2,\"Marital_Status\")"
   ]
  },
  {
   "cell_type": "code",
   "execution_count": 43,
   "id": "328949c4",
   "metadata": {},
   "outputs": [
    {
     "data": {
      "image/png": "[encoded data removed]",
      "text/plain": [
       "<Figure size 1800x1080 with 1 Axes>"
      ]
     },
     "metadata": {
      "needs_background": "light"
     },
     "output_type": "display_data"
    }
   ],
   "source": [
    "plot_column_distr(df_train_2,\"Workclass\")"
   ]
  },
  {
   "cell_type": "code",
   "execution_count": 44,
   "id": "5d76e96f",
   "metadata": {},
   "outputs": [],
   "source": [
    "#As we can see for many categories like Native_Country there are many observations under only one category\n",
    "#Which means that we can take only the first N categories and remove everything else from the rest of categiries\n",
    "def removing_features(df,list_of_features):\n",
    "    for i in list_of_features:\n",
    "        df.drop(i,axis=1,inplace=True)\n",
    "    return df"
   ]
  },
  {
   "cell_type": "code",
   "execution_count": 45,
   "id": "de35cf1a",
   "metadata": {},
   "outputs": [],
   "source": [
    "countries_rmv=['Native_Country_'+str(i) for i in df_train_2['Native_Country'].unique()]"
   ]
  },
  {
   "cell_type": "code",
   "execution_count": 46,
   "id": "4c8b0ad9",
   "metadata": {},
   "outputs": [],
   "source": [
    "df_train_3=removing_features(ohe_df_train,countries_rmv[1:])"
   ]
  },
  {
   "cell_type": "code",
   "execution_count": 47,
   "id": "d909ed09",
   "metadata": {},
   "outputs": [],
   "source": [
    "#Here we make a list withh all the categories of education that we want to remove\n",
    "Education_rmv=list(df_train_2['Education'].value_counts().sort_values(ascending=False).index)[6:]"
   ]
  },
  {
   "cell_type": "code",
   "execution_count": 48,
   "id": "060cde2b",
   "metadata": {},
   "outputs": [
    {
     "data": {
      "text/plain": [
       "[' 11th',\n",
       " ' 10th',\n",
       " ' 7th-8th',\n",
       " ' Prof-school',\n",
       " ' 9th',\n",
       " ' 12th',\n",
       " ' Doctorate',\n",
       " ' 5th-6th',\n",
       " ' 1st-4th',\n",
       " ' Preschool']"
      ]
     },
     "execution_count": 48,
     "metadata": {},
     "output_type": "execute_result"
    }
   ],
   "source": [
    "Education_rmv"
   ]
  },
  {
   "cell_type": "code",
   "execution_count": 49,
   "id": "6afea0fa",
   "metadata": {},
   "outputs": [
    {
     "data": {
      "text/plain": [
       "' Doctorate'"
      ]
     },
     "execution_count": 49,
     "metadata": {},
     "output_type": "execute_result"
    }
   ],
   "source": [
    "#Doctorate was removed from the list because it is a very significant factor to someone's salary\n",
    "Education_rmv.pop(6)"
   ]
  },
  {
   "cell_type": "code",
   "execution_count": 50,
   "id": "84483466",
   "metadata": {},
   "outputs": [],
   "source": [
    "Education_rmv_fnl=['Education_'+str(i) for i in Education_rmv]"
   ]
  },
  {
   "cell_type": "code",
   "execution_count": 51,
   "id": "55f77edb",
   "metadata": {},
   "outputs": [],
   "source": [
    "df_train_3=removing_features(ohe_df_train,Education_rmv_fnl)                    "
   ]
  },
  {
   "cell_type": "code",
   "execution_count": 52,
   "id": "a766f0a7",
   "metadata": {},
   "outputs": [
    {
     "data": {
      "text/html": [
       "<div>\n",
       "<style scoped>\n",
       "    .dataframe tbody tr th:only-of-type {\n",
       "        vertical-align: middle;\n",
       "    }\n",
       "\n",
       "    .dataframe tbody tr th {\n",
       "        vertical-align: top;\n",
       "    }\n",
       "\n",
       "    .dataframe thead th {\n",
       "        text-align: right;\n",
       "    }\n",
       "</style>\n",
       "<table border=\"1\" class=\"dataframe\">\n",
       "  <thead>\n",
       "    <tr style=\"text-align: right;\">\n",
       "      <th></th>\n",
       "      <th>Age</th>\n",
       "      <th>Final_Weight</th>\n",
       "      <th>Education_Num</th>\n",
       "      <th>Capital_Gain</th>\n",
       "      <th>Capital_Loss</th>\n",
       "      <th>Hours_per_Week</th>\n",
       "      <th>Workclass_ Federal-gov</th>\n",
       "      <th>Workclass_ Local-gov</th>\n",
       "      <th>Workclass_ Private</th>\n",
       "      <th>Workclass_ Self-emp-inc</th>\n",
       "      <th>...</th>\n",
       "      <th>Race_ Amer-Indian-Eskimo</th>\n",
       "      <th>Race_ Asian-Pac-Islander</th>\n",
       "      <th>Race_ Black</th>\n",
       "      <th>Race_ Other</th>\n",
       "      <th>Race_ White</th>\n",
       "      <th>Sex_ Female</th>\n",
       "      <th>Sex_ Male</th>\n",
       "      <th>Native_Country_ United-States</th>\n",
       "      <th>Class_ &lt;=50K</th>\n",
       "      <th>Class_ &gt;50K</th>\n",
       "    </tr>\n",
       "  </thead>\n",
       "  <tbody>\n",
       "    <tr>\n",
       "      <th>0</th>\n",
       "      <td>39</td>\n",
       "      <td>77516</td>\n",
       "      <td>13</td>\n",
       "      <td>2174</td>\n",
       "      <td>0</td>\n",
       "      <td>40</td>\n",
       "      <td>0</td>\n",
       "      <td>0</td>\n",
       "      <td>0</td>\n",
       "      <td>0</td>\n",
       "      <td>...</td>\n",
       "      <td>0</td>\n",
       "      <td>0</td>\n",
       "      <td>0</td>\n",
       "      <td>0</td>\n",
       "      <td>1</td>\n",
       "      <td>0</td>\n",
       "      <td>1</td>\n",
       "      <td>1</td>\n",
       "      <td>1</td>\n",
       "      <td>0</td>\n",
       "    </tr>\n",
       "    <tr>\n",
       "      <th>1</th>\n",
       "      <td>60</td>\n",
       "      <td>40856</td>\n",
       "      <td>11</td>\n",
       "      <td>0</td>\n",
       "      <td>0</td>\n",
       "      <td>46</td>\n",
       "      <td>0</td>\n",
       "      <td>0</td>\n",
       "      <td>1</td>\n",
       "      <td>0</td>\n",
       "      <td>...</td>\n",
       "      <td>0</td>\n",
       "      <td>0</td>\n",
       "      <td>0</td>\n",
       "      <td>0</td>\n",
       "      <td>1</td>\n",
       "      <td>0</td>\n",
       "      <td>1</td>\n",
       "      <td>1</td>\n",
       "      <td>0</td>\n",
       "      <td>1</td>\n",
       "    </tr>\n",
       "    <tr>\n",
       "      <th>2</th>\n",
       "      <td>45</td>\n",
       "      <td>289230</td>\n",
       "      <td>13</td>\n",
       "      <td>0</td>\n",
       "      <td>0</td>\n",
       "      <td>48</td>\n",
       "      <td>0</td>\n",
       "      <td>0</td>\n",
       "      <td>1</td>\n",
       "      <td>0</td>\n",
       "      <td>...</td>\n",
       "      <td>0</td>\n",
       "      <td>0</td>\n",
       "      <td>0</td>\n",
       "      <td>0</td>\n",
       "      <td>1</td>\n",
       "      <td>1</td>\n",
       "      <td>0</td>\n",
       "      <td>1</td>\n",
       "      <td>0</td>\n",
       "      <td>1</td>\n",
       "    </tr>\n",
       "    <tr>\n",
       "      <th>3</th>\n",
       "      <td>26</td>\n",
       "      <td>52322</td>\n",
       "      <td>13</td>\n",
       "      <td>0</td>\n",
       "      <td>0</td>\n",
       "      <td>60</td>\n",
       "      <td>1</td>\n",
       "      <td>0</td>\n",
       "      <td>0</td>\n",
       "      <td>0</td>\n",
       "      <td>...</td>\n",
       "      <td>0</td>\n",
       "      <td>0</td>\n",
       "      <td>0</td>\n",
       "      <td>1</td>\n",
       "      <td>0</td>\n",
       "      <td>0</td>\n",
       "      <td>1</td>\n",
       "      <td>1</td>\n",
       "      <td>1</td>\n",
       "      <td>0</td>\n",
       "    </tr>\n",
       "    <tr>\n",
       "      <th>4</th>\n",
       "      <td>35</td>\n",
       "      <td>27408</td>\n",
       "      <td>10</td>\n",
       "      <td>0</td>\n",
       "      <td>0</td>\n",
       "      <td>40</td>\n",
       "      <td>0</td>\n",
       "      <td>0</td>\n",
       "      <td>1</td>\n",
       "      <td>0</td>\n",
       "      <td>...</td>\n",
       "      <td>0</td>\n",
       "      <td>0</td>\n",
       "      <td>0</td>\n",
       "      <td>0</td>\n",
       "      <td>1</td>\n",
       "      <td>0</td>\n",
       "      <td>1</td>\n",
       "      <td>1</td>\n",
       "      <td>1</td>\n",
       "      <td>0</td>\n",
       "    </tr>\n",
       "  </tbody>\n",
       "</table>\n",
       "<p>5 rows × 57 columns</p>\n",
       "</div>"
      ],
      "text/plain": [
       "   Age  Final_Weight  Education_Num  Capital_Gain  Capital_Loss  \\\n",
       "0   39         77516             13          2174             0   \n",
       "1   60         40856             11             0             0   \n",
       "2   45        289230             13             0             0   \n",
       "3   26         52322             13             0             0   \n",
       "4   35         27408             10             0             0   \n",
       "\n",
       "   Hours_per_Week  Workclass_ Federal-gov  Workclass_ Local-gov  \\\n",
       "0              40                       0                     0   \n",
       "1              46                       0                     0   \n",
       "2              48                       0                     0   \n",
       "3              60                       1                     0   \n",
       "4              40                       0                     0   \n",
       "\n",
       "   Workclass_ Private  Workclass_ Self-emp-inc  ...  Race_ Amer-Indian-Eskimo  \\\n",
       "0                   0                        0  ...                         0   \n",
       "1                   1                        0  ...                         0   \n",
       "2                   1                        0  ...                         0   \n",
       "3                   0                        0  ...                         0   \n",
       "4                   1                        0  ...                         0   \n",
       "\n",
       "   Race_ Asian-Pac-Islander  Race_ Black  Race_ Other  Race_ White  \\\n",
       "0                         0            0            0            1   \n",
       "1                         0            0            0            1   \n",
       "2                         0            0            0            1   \n",
       "3                         0            0            1            0   \n",
       "4                         0            0            0            1   \n",
       "\n",
       "   Sex_ Female  Sex_ Male  Native_Country_ United-States  Class_ <=50K  \\\n",
       "0            0          1                              1             1   \n",
       "1            0          1                              1             0   \n",
       "2            1          0                              1             0   \n",
       "3            0          1                              1             1   \n",
       "4            0          1                              1             1   \n",
       "\n",
       "   Class_ >50K  \n",
       "0            0  \n",
       "1            1  \n",
       "2            1  \n",
       "3            0  \n",
       "4            0  \n",
       "\n",
       "[5 rows x 57 columns]"
      ]
     },
     "execution_count": 52,
     "metadata": {},
     "output_type": "execute_result"
    }
   ],
   "source": [
    "df_train_3.head()"
   ]
  },
  {
   "cell_type": "code",
   "execution_count": 53,
   "id": "c34ae868",
   "metadata": {},
   "outputs": [],
   "source": [
    "#As can be seen the majority of the data are for Race = white so we can remove the rest\n",
    "Race_rmv=['Race_'+str(i) for i in df_train_2['Race'].unique()]"
   ]
  },
  {
   "cell_type": "code",
   "execution_count": 54,
   "id": "eb7c4b22",
   "metadata": {},
   "outputs": [],
   "source": [
    "df_train_3=removing_features(ohe_df_train,Race_rmv[1:])          "
   ]
  },
  {
   "cell_type": "code",
   "execution_count": 55,
   "id": "75d3bad3",
   "metadata": {},
   "outputs": [],
   "source": [
    "#Droping the Female Column we have only two values for sex\n",
    "df_train_3.drop('Sex_ Female',axis=1,inplace=True)\n",
    "#komple einai apla to ksanatrexa"
   ]
  },
  {
   "cell_type": "code",
   "execution_count": 56,
   "id": "6a032b33",
   "metadata": {},
   "outputs": [],
   "source": [
    "#Dropping >50k as we have only two classes\n",
    "df_train_3.drop('Class_ <=50K',axis=1,inplace=True)"
   ]
  },
  {
   "cell_type": "code",
   "execution_count": 57,
   "id": "1f3012dd",
   "metadata": {},
   "outputs": [
    {
     "data": {
      "text/plain": [
       "(9245, 51)"
      ]
     },
     "execution_count": 57,
     "metadata": {},
     "output_type": "execute_result"
    }
   ],
   "source": [
    "df_train_3.shape"
   ]
  },
  {
   "cell_type": "code",
   "execution_count": 58,
   "id": "ca3e9675",
   "metadata": {},
   "outputs": [],
   "source": [
    "Occupation_rmv=list(df_train_2['Occupation'].value_counts().sort_values(ascending=False).index)[8:]"
   ]
  },
  {
   "cell_type": "code",
   "execution_count": 59,
   "id": "f15c4534",
   "metadata": {},
   "outputs": [],
   "source": [
    "Occupation_rmv_final=['Occupation_'+str(i) for i in Occupation_rmv]"
   ]
  },
  {
   "cell_type": "code",
   "execution_count": 60,
   "id": "c0812ca5",
   "metadata": {},
   "outputs": [],
   "source": [
    "df_train_3=removing_features(ohe_df_train,Occupation_rmv_final) "
   ]
  },
  {
   "cell_type": "code",
   "execution_count": 61,
   "id": "739adae8",
   "metadata": {},
   "outputs": [
    {
     "data": {
      "text/html": [
       "<div>\n",
       "<style scoped>\n",
       "    .dataframe tbody tr th:only-of-type {\n",
       "        vertical-align: middle;\n",
       "    }\n",
       "\n",
       "    .dataframe tbody tr th {\n",
       "        vertical-align: top;\n",
       "    }\n",
       "\n",
       "    .dataframe thead th {\n",
       "        text-align: right;\n",
       "    }\n",
       "</style>\n",
       "<table border=\"1\" class=\"dataframe\">\n",
       "  <thead>\n",
       "    <tr style=\"text-align: right;\">\n",
       "      <th></th>\n",
       "      <th>Age</th>\n",
       "      <th>Final_Weight</th>\n",
       "      <th>Education_Num</th>\n",
       "      <th>Capital_Gain</th>\n",
       "      <th>Capital_Loss</th>\n",
       "      <th>Hours_per_Week</th>\n",
       "      <th>Workclass_ Federal-gov</th>\n",
       "      <th>Workclass_ Local-gov</th>\n",
       "      <th>Workclass_ Private</th>\n",
       "      <th>Workclass_ Self-emp-inc</th>\n",
       "      <th>...</th>\n",
       "      <th>Relationship_ Husband</th>\n",
       "      <th>Relationship_ Not-in-family</th>\n",
       "      <th>Relationship_ Other-relative</th>\n",
       "      <th>Relationship_ Own-child</th>\n",
       "      <th>Relationship_ Unmarried</th>\n",
       "      <th>Relationship_ Wife</th>\n",
       "      <th>Race_ White</th>\n",
       "      <th>Sex_ Male</th>\n",
       "      <th>Native_Country_ United-States</th>\n",
       "      <th>Class_ &gt;50K</th>\n",
       "    </tr>\n",
       "  </thead>\n",
       "  <tbody>\n",
       "    <tr>\n",
       "      <th>0</th>\n",
       "      <td>39</td>\n",
       "      <td>77516</td>\n",
       "      <td>13</td>\n",
       "      <td>2174</td>\n",
       "      <td>0</td>\n",
       "      <td>40</td>\n",
       "      <td>0</td>\n",
       "      <td>0</td>\n",
       "      <td>0</td>\n",
       "      <td>0</td>\n",
       "      <td>...</td>\n",
       "      <td>0</td>\n",
       "      <td>1</td>\n",
       "      <td>0</td>\n",
       "      <td>0</td>\n",
       "      <td>0</td>\n",
       "      <td>0</td>\n",
       "      <td>1</td>\n",
       "      <td>1</td>\n",
       "      <td>1</td>\n",
       "      <td>0</td>\n",
       "    </tr>\n",
       "    <tr>\n",
       "      <th>1</th>\n",
       "      <td>60</td>\n",
       "      <td>40856</td>\n",
       "      <td>11</td>\n",
       "      <td>0</td>\n",
       "      <td>0</td>\n",
       "      <td>46</td>\n",
       "      <td>0</td>\n",
       "      <td>0</td>\n",
       "      <td>1</td>\n",
       "      <td>0</td>\n",
       "      <td>...</td>\n",
       "      <td>1</td>\n",
       "      <td>0</td>\n",
       "      <td>0</td>\n",
       "      <td>0</td>\n",
       "      <td>0</td>\n",
       "      <td>0</td>\n",
       "      <td>1</td>\n",
       "      <td>1</td>\n",
       "      <td>1</td>\n",
       "      <td>1</td>\n",
       "    </tr>\n",
       "    <tr>\n",
       "      <th>2</th>\n",
       "      <td>45</td>\n",
       "      <td>289230</td>\n",
       "      <td>13</td>\n",
       "      <td>0</td>\n",
       "      <td>0</td>\n",
       "      <td>48</td>\n",
       "      <td>0</td>\n",
       "      <td>0</td>\n",
       "      <td>1</td>\n",
       "      <td>0</td>\n",
       "      <td>...</td>\n",
       "      <td>0</td>\n",
       "      <td>0</td>\n",
       "      <td>0</td>\n",
       "      <td>0</td>\n",
       "      <td>1</td>\n",
       "      <td>0</td>\n",
       "      <td>1</td>\n",
       "      <td>0</td>\n",
       "      <td>1</td>\n",
       "      <td>1</td>\n",
       "    </tr>\n",
       "    <tr>\n",
       "      <th>3</th>\n",
       "      <td>26</td>\n",
       "      <td>52322</td>\n",
       "      <td>13</td>\n",
       "      <td>0</td>\n",
       "      <td>0</td>\n",
       "      <td>60</td>\n",
       "      <td>1</td>\n",
       "      <td>0</td>\n",
       "      <td>0</td>\n",
       "      <td>0</td>\n",
       "      <td>...</td>\n",
       "      <td>0</td>\n",
       "      <td>1</td>\n",
       "      <td>0</td>\n",
       "      <td>0</td>\n",
       "      <td>0</td>\n",
       "      <td>0</td>\n",
       "      <td>0</td>\n",
       "      <td>1</td>\n",
       "      <td>1</td>\n",
       "      <td>0</td>\n",
       "    </tr>\n",
       "    <tr>\n",
       "      <th>4</th>\n",
       "      <td>35</td>\n",
       "      <td>27408</td>\n",
       "      <td>10</td>\n",
       "      <td>0</td>\n",
       "      <td>0</td>\n",
       "      <td>40</td>\n",
       "      <td>0</td>\n",
       "      <td>0</td>\n",
       "      <td>1</td>\n",
       "      <td>0</td>\n",
       "      <td>...</td>\n",
       "      <td>0</td>\n",
       "      <td>1</td>\n",
       "      <td>0</td>\n",
       "      <td>0</td>\n",
       "      <td>0</td>\n",
       "      <td>0</td>\n",
       "      <td>1</td>\n",
       "      <td>1</td>\n",
       "      <td>1</td>\n",
       "      <td>0</td>\n",
       "    </tr>\n",
       "  </tbody>\n",
       "</table>\n",
       "<p>5 rows × 45 columns</p>\n",
       "</div>"
      ],
      "text/plain": [
       "   Age  Final_Weight  Education_Num  Capital_Gain  Capital_Loss  \\\n",
       "0   39         77516             13          2174             0   \n",
       "1   60         40856             11             0             0   \n",
       "2   45        289230             13             0             0   \n",
       "3   26         52322             13             0             0   \n",
       "4   35         27408             10             0             0   \n",
       "\n",
       "   Hours_per_Week  Workclass_ Federal-gov  Workclass_ Local-gov  \\\n",
       "0              40                       0                     0   \n",
       "1              46                       0                     0   \n",
       "2              48                       0                     0   \n",
       "3              60                       1                     0   \n",
       "4              40                       0                     0   \n",
       "\n",
       "   Workclass_ Private  Workclass_ Self-emp-inc  ...  Relationship_ Husband  \\\n",
       "0                   0                        0  ...                      0   \n",
       "1                   1                        0  ...                      1   \n",
       "2                   1                        0  ...                      0   \n",
       "3                   0                        0  ...                      0   \n",
       "4                   1                        0  ...                      0   \n",
       "\n",
       "   Relationship_ Not-in-family  Relationship_ Other-relative  \\\n",
       "0                            1                             0   \n",
       "1                            0                             0   \n",
       "2                            0                             0   \n",
       "3                            1                             0   \n",
       "4                            1                             0   \n",
       "\n",
       "   Relationship_ Own-child  Relationship_ Unmarried  Relationship_ Wife  \\\n",
       "0                        0                        0                   0   \n",
       "1                        0                        0                   0   \n",
       "2                        0                        1                   0   \n",
       "3                        0                        0                   0   \n",
       "4                        0                        0                   0   \n",
       "\n",
       "   Race_ White  Sex_ Male  Native_Country_ United-States  Class_ >50K  \n",
       "0            1          1                              1            0  \n",
       "1            1          1                              1            1  \n",
       "2            1          0                              1            1  \n",
       "3            0          1                              1            0  \n",
       "4            1          1                              1            0  \n",
       "\n",
       "[5 rows x 45 columns]"
      ]
     },
     "execution_count": 61,
     "metadata": {},
     "output_type": "execute_result"
    }
   ],
   "source": [
    "df_train_3.head()"
   ]
  },
  {
   "cell_type": "code",
   "execution_count": 62,
   "id": "75f6baae",
   "metadata": {},
   "outputs": [],
   "source": [
    "Marital_Status_rmv=list(df_train_2['Marital_Status'].value_counts().sort_values(ascending=False).index)[1:]\n",
    "Marital_Status_rmv_final=['Marital_Status_'+str(i) for i in Marital_Status_rmv]"
   ]
  },
  {
   "cell_type": "code",
   "execution_count": 63,
   "id": "d17cf57c",
   "metadata": {},
   "outputs": [],
   "source": [
    "df_train_3=removing_features(ohe_df_train,Marital_Status_rmv_final)"
   ]
  },
  {
   "cell_type": "code",
   "execution_count": 64,
   "id": "8982fac9",
   "metadata": {},
   "outputs": [],
   "source": [
    "workclass=list(df_train_2['Workclass'].value_counts().sort_values(ascending=False).index)[1:]\n",
    "workclass_rmv=['Workclass_'+str(i) for i in workclass]"
   ]
  },
  {
   "cell_type": "code",
   "execution_count": 65,
   "id": "c1433668",
   "metadata": {},
   "outputs": [],
   "source": [
    "df_train_3=removing_features(ohe_df_train,workclass_rmv)"
   ]
  },
  {
   "cell_type": "code",
   "execution_count": 66,
   "id": "a8102e45",
   "metadata": {},
   "outputs": [
    {
     "data": {
      "text/plain": [
       "Index(['Age', 'Final_Weight', 'Education_Num', 'Capital_Gain', 'Capital_Loss',\n",
       "       'Hours_per_Week', 'Workclass_ Private', 'Education_ Assoc-acdm',\n",
       "       'Education_ Assoc-voc', 'Education_ Bachelors', 'Education_ Doctorate',\n",
       "       'Education_ HS-grad', 'Education_ Masters', 'Education_ Some-college',\n",
       "       'Marital_Status_ Married-civ-spouse', 'Occupation_ Adm-clerical',\n",
       "       'Occupation_ Craft-repair', 'Occupation_ Exec-managerial',\n",
       "       'Occupation_ Machine-op-inspct', 'Occupation_ Other-service',\n",
       "       'Occupation_ Prof-specialty', 'Occupation_ Sales',\n",
       "       'Occupation_ Transport-moving', 'Relationship_ Husband',\n",
       "       'Relationship_ Not-in-family', 'Relationship_ Other-relative',\n",
       "       'Relationship_ Own-child', 'Relationship_ Unmarried',\n",
       "       'Relationship_ Wife', 'Race_ White', 'Sex_ Male',\n",
       "       'Native_Country_ United-States', 'Class_ >50K'],\n",
       "      dtype='object')"
      ]
     },
     "execution_count": 66,
     "metadata": {},
     "output_type": "execute_result"
    }
   ],
   "source": [
    "#We ended up from 105 columns after One hoT Encoding to 32 after the modifications above removing 73 columns\n",
    "df_train_3.columns"
   ]
  },
  {
   "cell_type": "code",
   "execution_count": 67,
   "id": "aae5ba4c",
   "metadata": {},
   "outputs": [
    {
     "data": {
      "text/html": [
       "<div>\n",
       "<style scoped>\n",
       "    .dataframe tbody tr th:only-of-type {\n",
       "        vertical-align: middle;\n",
       "    }\n",
       "\n",
       "    .dataframe tbody tr th {\n",
       "        vertical-align: top;\n",
       "    }\n",
       "\n",
       "    .dataframe thead th {\n",
       "        text-align: right;\n",
       "    }\n",
       "</style>\n",
       "<table border=\"1\" class=\"dataframe\">\n",
       "  <thead>\n",
       "    <tr style=\"text-align: right;\">\n",
       "      <th></th>\n",
       "      <th>Age</th>\n",
       "      <th>Final_Weight</th>\n",
       "      <th>Education_Num</th>\n",
       "      <th>Capital_Gain</th>\n",
       "      <th>Capital_Loss</th>\n",
       "      <th>Hours_per_Week</th>\n",
       "      <th>Workclass_ Private</th>\n",
       "      <th>Education_ Assoc-acdm</th>\n",
       "      <th>Education_ Assoc-voc</th>\n",
       "      <th>Education_ Bachelors</th>\n",
       "      <th>...</th>\n",
       "      <th>Relationship_ Husband</th>\n",
       "      <th>Relationship_ Not-in-family</th>\n",
       "      <th>Relationship_ Other-relative</th>\n",
       "      <th>Relationship_ Own-child</th>\n",
       "      <th>Relationship_ Unmarried</th>\n",
       "      <th>Relationship_ Wife</th>\n",
       "      <th>Race_ White</th>\n",
       "      <th>Sex_ Male</th>\n",
       "      <th>Native_Country_ United-States</th>\n",
       "      <th>Class_ &gt;50K</th>\n",
       "    </tr>\n",
       "  </thead>\n",
       "  <tbody>\n",
       "    <tr>\n",
       "      <th>0</th>\n",
       "      <td>39</td>\n",
       "      <td>77516</td>\n",
       "      <td>13</td>\n",
       "      <td>2174</td>\n",
       "      <td>0</td>\n",
       "      <td>40</td>\n",
       "      <td>0</td>\n",
       "      <td>0</td>\n",
       "      <td>0</td>\n",
       "      <td>1</td>\n",
       "      <td>...</td>\n",
       "      <td>0</td>\n",
       "      <td>1</td>\n",
       "      <td>0</td>\n",
       "      <td>0</td>\n",
       "      <td>0</td>\n",
       "      <td>0</td>\n",
       "      <td>1</td>\n",
       "      <td>1</td>\n",
       "      <td>1</td>\n",
       "      <td>0</td>\n",
       "    </tr>\n",
       "    <tr>\n",
       "      <th>1</th>\n",
       "      <td>60</td>\n",
       "      <td>40856</td>\n",
       "      <td>11</td>\n",
       "      <td>0</td>\n",
       "      <td>0</td>\n",
       "      <td>46</td>\n",
       "      <td>1</td>\n",
       "      <td>0</td>\n",
       "      <td>1</td>\n",
       "      <td>0</td>\n",
       "      <td>...</td>\n",
       "      <td>1</td>\n",
       "      <td>0</td>\n",
       "      <td>0</td>\n",
       "      <td>0</td>\n",
       "      <td>0</td>\n",
       "      <td>0</td>\n",
       "      <td>1</td>\n",
       "      <td>1</td>\n",
       "      <td>1</td>\n",
       "      <td>1</td>\n",
       "    </tr>\n",
       "    <tr>\n",
       "      <th>2</th>\n",
       "      <td>45</td>\n",
       "      <td>289230</td>\n",
       "      <td>13</td>\n",
       "      <td>0</td>\n",
       "      <td>0</td>\n",
       "      <td>48</td>\n",
       "      <td>1</td>\n",
       "      <td>0</td>\n",
       "      <td>0</td>\n",
       "      <td>1</td>\n",
       "      <td>...</td>\n",
       "      <td>0</td>\n",
       "      <td>0</td>\n",
       "      <td>0</td>\n",
       "      <td>0</td>\n",
       "      <td>1</td>\n",
       "      <td>0</td>\n",
       "      <td>1</td>\n",
       "      <td>0</td>\n",
       "      <td>1</td>\n",
       "      <td>1</td>\n",
       "    </tr>\n",
       "    <tr>\n",
       "      <th>3</th>\n",
       "      <td>26</td>\n",
       "      <td>52322</td>\n",
       "      <td>13</td>\n",
       "      <td>0</td>\n",
       "      <td>0</td>\n",
       "      <td>60</td>\n",
       "      <td>0</td>\n",
       "      <td>0</td>\n",
       "      <td>0</td>\n",
       "      <td>1</td>\n",
       "      <td>...</td>\n",
       "      <td>0</td>\n",
       "      <td>1</td>\n",
       "      <td>0</td>\n",
       "      <td>0</td>\n",
       "      <td>0</td>\n",
       "      <td>0</td>\n",
       "      <td>0</td>\n",
       "      <td>1</td>\n",
       "      <td>1</td>\n",
       "      <td>0</td>\n",
       "    </tr>\n",
       "    <tr>\n",
       "      <th>4</th>\n",
       "      <td>35</td>\n",
       "      <td>27408</td>\n",
       "      <td>10</td>\n",
       "      <td>0</td>\n",
       "      <td>0</td>\n",
       "      <td>40</td>\n",
       "      <td>1</td>\n",
       "      <td>0</td>\n",
       "      <td>0</td>\n",
       "      <td>0</td>\n",
       "      <td>...</td>\n",
       "      <td>0</td>\n",
       "      <td>1</td>\n",
       "      <td>0</td>\n",
       "      <td>0</td>\n",
       "      <td>0</td>\n",
       "      <td>0</td>\n",
       "      <td>1</td>\n",
       "      <td>1</td>\n",
       "      <td>1</td>\n",
       "      <td>0</td>\n",
       "    </tr>\n",
       "  </tbody>\n",
       "</table>\n",
       "<p>5 rows × 33 columns</p>\n",
       "</div>"
      ],
      "text/plain": [
       "   Age  Final_Weight  Education_Num  Capital_Gain  Capital_Loss  \\\n",
       "0   39         77516             13          2174             0   \n",
       "1   60         40856             11             0             0   \n",
       "2   45        289230             13             0             0   \n",
       "3   26         52322             13             0             0   \n",
       "4   35         27408             10             0             0   \n",
       "\n",
       "   Hours_per_Week  Workclass_ Private  Education_ Assoc-acdm  \\\n",
       "0              40                   0                      0   \n",
       "1              46                   1                      0   \n",
       "2              48                   1                      0   \n",
       "3              60                   0                      0   \n",
       "4              40                   1                      0   \n",
       "\n",
       "   Education_ Assoc-voc  Education_ Bachelors  ...  Relationship_ Husband  \\\n",
       "0                     0                     1  ...                      0   \n",
       "1                     1                     0  ...                      1   \n",
       "2                     0                     1  ...                      0   \n",
       "3                     0                     1  ...                      0   \n",
       "4                     0                     0  ...                      0   \n",
       "\n",
       "   Relationship_ Not-in-family  Relationship_ Other-relative  \\\n",
       "0                            1                             0   \n",
       "1                            0                             0   \n",
       "2                            0                             0   \n",
       "3                            1                             0   \n",
       "4                            1                             0   \n",
       "\n",
       "   Relationship_ Own-child  Relationship_ Unmarried  Relationship_ Wife  \\\n",
       "0                        0                        0                   0   \n",
       "1                        0                        0                   0   \n",
       "2                        0                        1                   0   \n",
       "3                        0                        0                   0   \n",
       "4                        0                        0                   0   \n",
       "\n",
       "   Race_ White  Sex_ Male  Native_Country_ United-States  Class_ >50K  \n",
       "0            1          1                              1            0  \n",
       "1            1          1                              1            1  \n",
       "2            1          0                              1            1  \n",
       "3            0          1                              1            0  \n",
       "4            1          1                              1            0  \n",
       "\n",
       "[5 rows x 33 columns]"
      ]
     },
     "execution_count": 67,
     "metadata": {},
     "output_type": "execute_result"
    }
   ],
   "source": [
    "df_train_3.head()"
   ]
  },
  {
   "cell_type": "code",
   "execution_count": 68,
   "id": "acd5d589",
   "metadata": {},
   "outputs": [
    {
     "name": "stdout",
     "output_type": "stream",
     "text": [
      "<class 'pandas.core.frame.DataFrame'>\n",
      "Int64Index: 9245 entries, 0 to 9999\n",
      "Data columns (total 33 columns):\n",
      " #   Column                              Non-Null Count  Dtype\n",
      "---  ------                              --------------  -----\n",
      " 0   Age                                 9245 non-null   int64\n",
      " 1   Final_Weight                        9245 non-null   int64\n",
      " 2   Education_Num                       9245 non-null   int64\n",
      " 3   Capital_Gain                        9245 non-null   int64\n",
      " 4   Capital_Loss                        9245 non-null   int64\n",
      " 5   Hours_per_Week                      9245 non-null   int64\n",
      " 6   Workclass_ Private                  9245 non-null   uint8\n",
      " 7   Education_ Assoc-acdm               9245 non-null   uint8\n",
      " 8   Education_ Assoc-voc                9245 non-null   uint8\n",
      " 9   Education_ Bachelors                9245 non-null   uint8\n",
      " 10  Education_ Doctorate                9245 non-null   uint8\n",
      " 11  Education_ HS-grad                  9245 non-null   uint8\n",
      " 12  Education_ Masters                  9245 non-null   uint8\n",
      " 13  Education_ Some-college             9245 non-null   uint8\n",
      " 14  Marital_Status_ Married-civ-spouse  9245 non-null   uint8\n",
      " 15  Occupation_ Adm-clerical            9245 non-null   uint8\n",
      " 16  Occupation_ Craft-repair            9245 non-null   uint8\n",
      " 17  Occupation_ Exec-managerial         9245 non-null   uint8\n",
      " 18  Occupation_ Machine-op-inspct       9245 non-null   uint8\n",
      " 19  Occupation_ Other-service           9245 non-null   uint8\n",
      " 20  Occupation_ Prof-specialty          9245 non-null   uint8\n",
      " 21  Occupation_ Sales                   9245 non-null   uint8\n",
      " 22  Occupation_ Transport-moving        9245 non-null   uint8\n",
      " 23  Relationship_ Husband               9245 non-null   uint8\n",
      " 24  Relationship_ Not-in-family         9245 non-null   uint8\n",
      " 25  Relationship_ Other-relative        9245 non-null   uint8\n",
      " 26  Relationship_ Own-child             9245 non-null   uint8\n",
      " 27  Relationship_ Unmarried             9245 non-null   uint8\n",
      " 28  Relationship_ Wife                  9245 non-null   uint8\n",
      " 29  Race_ White                         9245 non-null   uint8\n",
      " 30  Sex_ Male                           9245 non-null   uint8\n",
      " 31  Native_Country_ United-States       9245 non-null   uint8\n",
      " 32  Class_ >50K                         9245 non-null   uint8\n",
      "dtypes: int64(6), uint8(27)\n",
      "memory usage: 749.4 KB\n"
     ]
    }
   ],
   "source": [
    "df_train_3.info()\n",
    "#df_train_3.to_csv('Processed_Train_Data.csv',index=False)"
   ]
  },
  {
   "cell_type": "code",
   "execution_count": 69,
   "id": "14839f24",
   "metadata": {},
   "outputs": [
    {
     "data": {
      "text/plain": [
       "Index(['Age', 'Final_Weight', 'Education_Num', 'Capital_Gain', 'Capital_Loss',\n",
       "       'Hours_per_Week', 'Workclass_ Private', 'Education_ Assoc-acdm',\n",
       "       'Education_ Assoc-voc', 'Education_ Bachelors', 'Education_ Doctorate',\n",
       "       'Education_ HS-grad', 'Education_ Masters', 'Education_ Some-college',\n",
       "       'Marital_Status_ Married-civ-spouse', 'Occupation_ Adm-clerical',\n",
       "       'Occupation_ Craft-repair', 'Occupation_ Exec-managerial',\n",
       "       'Occupation_ Machine-op-inspct', 'Occupation_ Other-service',\n",
       "       'Occupation_ Prof-specialty', 'Occupation_ Sales',\n",
       "       'Occupation_ Transport-moving', 'Relationship_ Husband',\n",
       "       'Relationship_ Not-in-family', 'Relationship_ Other-relative',\n",
       "       'Relationship_ Own-child', 'Relationship_ Unmarried',\n",
       "       'Relationship_ Wife', 'Race_ White', 'Sex_ Male',\n",
       "       'Native_Country_ United-States', 'Class_ >50K'],\n",
       "      dtype='object')"
      ]
     },
     "execution_count": 69,
     "metadata": {},
     "output_type": "execute_result"
    }
   ],
   "source": [
    "df_train_3.columns"
   ]
  },
  {
   "cell_type": "code",
   "execution_count": 71,
   "id": "6aa02be6",
   "metadata": {},
   "outputs": [
    {
     "data": {
      "text/plain": [
       "(9245, 33)"
      ]
     },
     "execution_count": 71,
     "metadata": {},
     "output_type": "execute_result"
    }
   ],
   "source": [
    "df_train_3.shape"
   ]
  },
  {
   "cell_type": "code",
   "execution_count": 58,
   "id": "45d78a5c",
   "metadata": {},
   "outputs": [],
   "source": [
    "from sklearn.preprocessing import StandardScaler\n",
    "#Splitting the categorical from the numerical columns to perform Standard Scaler only on the numerical\n",
    "df_train_3_num=df_train_3[list(df_train_3.columns[:6])]\n",
    "df_train_3_cat=df_train_3[list(df_train_3.columns[6:])]"
   ]
  },
  {
   "cell_type": "code",
   "execution_count": 59,
   "id": "a44c2a06",
   "metadata": {},
   "outputs": [
    {
     "data": {
      "text/html": [
       "<div>\n",
       "<style scoped>\n",
       "    .dataframe tbody tr th:only-of-type {\n",
       "        vertical-align: middle;\n",
       "    }\n",
       "\n",
       "    .dataframe tbody tr th {\n",
       "        vertical-align: top;\n",
       "    }\n",
       "\n",
       "    .dataframe thead th {\n",
       "        text-align: right;\n",
       "    }\n",
       "</style>\n",
       "<table border=\"1\" class=\"dataframe\">\n",
       "  <thead>\n",
       "    <tr style=\"text-align: right;\">\n",
       "      <th></th>\n",
       "      <th>Age</th>\n",
       "      <th>Final_Weight</th>\n",
       "      <th>Education_Num</th>\n",
       "      <th>Capital_Gain</th>\n",
       "      <th>Capital_Loss</th>\n",
       "      <th>Hours_per_Week</th>\n",
       "    </tr>\n",
       "  </thead>\n",
       "  <tbody>\n",
       "    <tr>\n",
       "      <th>0</th>\n",
       "      <td>39</td>\n",
       "      <td>77516</td>\n",
       "      <td>13</td>\n",
       "      <td>2174</td>\n",
       "      <td>0</td>\n",
       "      <td>40</td>\n",
       "    </tr>\n",
       "    <tr>\n",
       "      <th>1</th>\n",
       "      <td>60</td>\n",
       "      <td>40856</td>\n",
       "      <td>11</td>\n",
       "      <td>0</td>\n",
       "      <td>0</td>\n",
       "      <td>46</td>\n",
       "    </tr>\n",
       "    <tr>\n",
       "      <th>2</th>\n",
       "      <td>45</td>\n",
       "      <td>289230</td>\n",
       "      <td>13</td>\n",
       "      <td>0</td>\n",
       "      <td>0</td>\n",
       "      <td>48</td>\n",
       "    </tr>\n",
       "    <tr>\n",
       "      <th>3</th>\n",
       "      <td>26</td>\n",
       "      <td>52322</td>\n",
       "      <td>13</td>\n",
       "      <td>0</td>\n",
       "      <td>0</td>\n",
       "      <td>60</td>\n",
       "    </tr>\n",
       "    <tr>\n",
       "      <th>4</th>\n",
       "      <td>35</td>\n",
       "      <td>27408</td>\n",
       "      <td>10</td>\n",
       "      <td>0</td>\n",
       "      <td>0</td>\n",
       "      <td>40</td>\n",
       "    </tr>\n",
       "    <tr>\n",
       "      <th>...</th>\n",
       "      <td>...</td>\n",
       "      <td>...</td>\n",
       "      <td>...</td>\n",
       "      <td>...</td>\n",
       "      <td>...</td>\n",
       "      <td>...</td>\n",
       "    </tr>\n",
       "    <tr>\n",
       "      <th>9995</th>\n",
       "      <td>18</td>\n",
       "      <td>180039</td>\n",
       "      <td>8</td>\n",
       "      <td>0</td>\n",
       "      <td>0</td>\n",
       "      <td>20</td>\n",
       "    </tr>\n",
       "    <tr>\n",
       "      <th>9996</th>\n",
       "      <td>64</td>\n",
       "      <td>116084</td>\n",
       "      <td>9</td>\n",
       "      <td>2635</td>\n",
       "      <td>0</td>\n",
       "      <td>40</td>\n",
       "    </tr>\n",
       "    <tr>\n",
       "      <th>9997</th>\n",
       "      <td>17</td>\n",
       "      <td>95446</td>\n",
       "      <td>6</td>\n",
       "      <td>0</td>\n",
       "      <td>0</td>\n",
       "      <td>15</td>\n",
       "    </tr>\n",
       "    <tr>\n",
       "      <th>9998</th>\n",
       "      <td>43</td>\n",
       "      <td>243476</td>\n",
       "      <td>9</td>\n",
       "      <td>0</td>\n",
       "      <td>0</td>\n",
       "      <td>40</td>\n",
       "    </tr>\n",
       "    <tr>\n",
       "      <th>9999</th>\n",
       "      <td>30</td>\n",
       "      <td>128065</td>\n",
       "      <td>10</td>\n",
       "      <td>0</td>\n",
       "      <td>0</td>\n",
       "      <td>45</td>\n",
       "    </tr>\n",
       "  </tbody>\n",
       "</table>\n",
       "<p>9245 rows × 6 columns</p>\n",
       "</div>"
      ],
      "text/plain": [
       "      Age  Final_Weight  Education_Num  Capital_Gain  Capital_Loss  \\\n",
       "0      39         77516             13          2174             0   \n",
       "1      60         40856             11             0             0   \n",
       "2      45        289230             13             0             0   \n",
       "3      26         52322             13             0             0   \n",
       "4      35         27408             10             0             0   \n",
       "...   ...           ...            ...           ...           ...   \n",
       "9995   18        180039              8             0             0   \n",
       "9996   64        116084              9          2635             0   \n",
       "9997   17         95446              6             0             0   \n",
       "9998   43        243476              9             0             0   \n",
       "9999   30        128065             10             0             0   \n",
       "\n",
       "      Hours_per_Week  \n",
       "0                 40  \n",
       "1                 46  \n",
       "2                 48  \n",
       "3                 60  \n",
       "4                 40  \n",
       "...              ...  \n",
       "9995              20  \n",
       "9996              40  \n",
       "9997              15  \n",
       "9998              40  \n",
       "9999              45  \n",
       "\n",
       "[9245 rows x 6 columns]"
      ]
     },
     "execution_count": 59,
     "metadata": {},
     "output_type": "execute_result"
    }
   ],
   "source": [
    "df_train_3_num"
   ]
  },
  {
   "cell_type": "code",
   "execution_count": 60,
   "id": "eb95448b",
   "metadata": {},
   "outputs": [],
   "source": [
    "# normalizing Dataset\n",
    "df_train_3_num=df_train_3_num.apply(lambda x: (x-x.min(axis=0))/(x.max(axis=0)-x.min(axis=0)))"
   ]
  },
  {
   "cell_type": "code",
   "execution_count": 61,
   "id": "3e2e1184",
   "metadata": {},
   "outputs": [
    {
     "data": {
      "text/html": [
       "<div>\n",
       "<style scoped>\n",
       "    .dataframe tbody tr th:only-of-type {\n",
       "        vertical-align: middle;\n",
       "    }\n",
       "\n",
       "    .dataframe tbody tr th {\n",
       "        vertical-align: top;\n",
       "    }\n",
       "\n",
       "    .dataframe thead th {\n",
       "        text-align: right;\n",
       "    }\n",
       "</style>\n",
       "<table border=\"1\" class=\"dataframe\">\n",
       "  <thead>\n",
       "    <tr style=\"text-align: right;\">\n",
       "      <th></th>\n",
       "      <th>Age</th>\n",
       "      <th>Final_Weight</th>\n",
       "      <th>Education_Num</th>\n",
       "      <th>Capital_Gain</th>\n",
       "      <th>Capital_Loss</th>\n",
       "      <th>Hours_per_Week</th>\n",
       "    </tr>\n",
       "  </thead>\n",
       "  <tbody>\n",
       "    <tr>\n",
       "      <th>0</th>\n",
       "      <td>0.301370</td>\n",
       "      <td>0.046970</td>\n",
       "      <td>0.800000</td>\n",
       "      <td>0.02174</td>\n",
       "      <td>0.0</td>\n",
       "      <td>0.391753</td>\n",
       "    </tr>\n",
       "    <tr>\n",
       "      <th>1</th>\n",
       "      <td>0.589041</td>\n",
       "      <td>0.017630</td>\n",
       "      <td>0.666667</td>\n",
       "      <td>0.00000</td>\n",
       "      <td>0.0</td>\n",
       "      <td>0.453608</td>\n",
       "    </tr>\n",
       "    <tr>\n",
       "      <th>2</th>\n",
       "      <td>0.383562</td>\n",
       "      <td>0.216407</td>\n",
       "      <td>0.800000</td>\n",
       "      <td>0.00000</td>\n",
       "      <td>0.0</td>\n",
       "      <td>0.474227</td>\n",
       "    </tr>\n",
       "    <tr>\n",
       "      <th>3</th>\n",
       "      <td>0.123288</td>\n",
       "      <td>0.026806</td>\n",
       "      <td>0.800000</td>\n",
       "      <td>0.00000</td>\n",
       "      <td>0.0</td>\n",
       "      <td>0.597938</td>\n",
       "    </tr>\n",
       "    <tr>\n",
       "      <th>4</th>\n",
       "      <td>0.246575</td>\n",
       "      <td>0.006867</td>\n",
       "      <td>0.600000</td>\n",
       "      <td>0.00000</td>\n",
       "      <td>0.0</td>\n",
       "      <td>0.391753</td>\n",
       "    </tr>\n",
       "  </tbody>\n",
       "</table>\n",
       "</div>"
      ],
      "text/plain": [
       "        Age  Final_Weight  Education_Num  Capital_Gain  Capital_Loss  \\\n",
       "0  0.301370      0.046970       0.800000       0.02174           0.0   \n",
       "1  0.589041      0.017630       0.666667       0.00000           0.0   \n",
       "2  0.383562      0.216407       0.800000       0.00000           0.0   \n",
       "3  0.123288      0.026806       0.800000       0.00000           0.0   \n",
       "4  0.246575      0.006867       0.600000       0.00000           0.0   \n",
       "\n",
       "   Hours_per_Week  \n",
       "0        0.391753  \n",
       "1        0.453608  \n",
       "2        0.474227  \n",
       "3        0.597938  \n",
       "4        0.391753  "
      ]
     },
     "execution_count": 61,
     "metadata": {},
     "output_type": "execute_result"
    }
   ],
   "source": [
    "df_train_3_num.head()"
   ]
  },
  {
   "cell_type": "code",
   "execution_count": 62,
   "id": "0954111c",
   "metadata": {},
   "outputs": [
    {
     "data": {
      "text/html": [
       "<div>\n",
       "<style scoped>\n",
       "    .dataframe tbody tr th:only-of-type {\n",
       "        vertical-align: middle;\n",
       "    }\n",
       "\n",
       "    .dataframe tbody tr th {\n",
       "        vertical-align: top;\n",
       "    }\n",
       "\n",
       "    .dataframe thead th {\n",
       "        text-align: right;\n",
       "    }\n",
       "</style>\n",
       "<table border=\"1\" class=\"dataframe\">\n",
       "  <thead>\n",
       "    <tr style=\"text-align: right;\">\n",
       "      <th></th>\n",
       "      <th>Workclass_ Private</th>\n",
       "      <th>Education_ Assoc-acdm</th>\n",
       "      <th>Education_ Assoc-voc</th>\n",
       "      <th>Education_ Bachelors</th>\n",
       "      <th>Education_ Doctorate</th>\n",
       "      <th>Education_ HS-grad</th>\n",
       "      <th>Education_ Masters</th>\n",
       "      <th>Education_ Some-college</th>\n",
       "      <th>Marital_Status_ Married-civ-spouse</th>\n",
       "      <th>Occupation_ Adm-clerical</th>\n",
       "      <th>...</th>\n",
       "      <th>Relationship_ Husband</th>\n",
       "      <th>Relationship_ Not-in-family</th>\n",
       "      <th>Relationship_ Other-relative</th>\n",
       "      <th>Relationship_ Own-child</th>\n",
       "      <th>Relationship_ Unmarried</th>\n",
       "      <th>Relationship_ Wife</th>\n",
       "      <th>Race_ White</th>\n",
       "      <th>Sex_ Male</th>\n",
       "      <th>Native_Country_ United-States</th>\n",
       "      <th>Class_ &gt;50K</th>\n",
       "    </tr>\n",
       "  </thead>\n",
       "  <tbody>\n",
       "    <tr>\n",
       "      <th>0</th>\n",
       "      <td>0</td>\n",
       "      <td>0</td>\n",
       "      <td>0</td>\n",
       "      <td>1</td>\n",
       "      <td>0</td>\n",
       "      <td>0</td>\n",
       "      <td>0</td>\n",
       "      <td>0</td>\n",
       "      <td>0</td>\n",
       "      <td>1</td>\n",
       "      <td>...</td>\n",
       "      <td>0</td>\n",
       "      <td>1</td>\n",
       "      <td>0</td>\n",
       "      <td>0</td>\n",
       "      <td>0</td>\n",
       "      <td>0</td>\n",
       "      <td>1</td>\n",
       "      <td>1</td>\n",
       "      <td>1</td>\n",
       "      <td>0</td>\n",
       "    </tr>\n",
       "    <tr>\n",
       "      <th>1</th>\n",
       "      <td>1</td>\n",
       "      <td>0</td>\n",
       "      <td>1</td>\n",
       "      <td>0</td>\n",
       "      <td>0</td>\n",
       "      <td>0</td>\n",
       "      <td>0</td>\n",
       "      <td>0</td>\n",
       "      <td>1</td>\n",
       "      <td>0</td>\n",
       "      <td>...</td>\n",
       "      <td>1</td>\n",
       "      <td>0</td>\n",
       "      <td>0</td>\n",
       "      <td>0</td>\n",
       "      <td>0</td>\n",
       "      <td>0</td>\n",
       "      <td>1</td>\n",
       "      <td>1</td>\n",
       "      <td>1</td>\n",
       "      <td>1</td>\n",
       "    </tr>\n",
       "    <tr>\n",
       "      <th>2</th>\n",
       "      <td>1</td>\n",
       "      <td>0</td>\n",
       "      <td>0</td>\n",
       "      <td>1</td>\n",
       "      <td>0</td>\n",
       "      <td>0</td>\n",
       "      <td>0</td>\n",
       "      <td>0</td>\n",
       "      <td>0</td>\n",
       "      <td>0</td>\n",
       "      <td>...</td>\n",
       "      <td>0</td>\n",
       "      <td>0</td>\n",
       "      <td>0</td>\n",
       "      <td>0</td>\n",
       "      <td>1</td>\n",
       "      <td>0</td>\n",
       "      <td>1</td>\n",
       "      <td>0</td>\n",
       "      <td>1</td>\n",
       "      <td>1</td>\n",
       "    </tr>\n",
       "    <tr>\n",
       "      <th>3</th>\n",
       "      <td>0</td>\n",
       "      <td>0</td>\n",
       "      <td>0</td>\n",
       "      <td>1</td>\n",
       "      <td>0</td>\n",
       "      <td>0</td>\n",
       "      <td>0</td>\n",
       "      <td>0</td>\n",
       "      <td>0</td>\n",
       "      <td>0</td>\n",
       "      <td>...</td>\n",
       "      <td>0</td>\n",
       "      <td>1</td>\n",
       "      <td>0</td>\n",
       "      <td>0</td>\n",
       "      <td>0</td>\n",
       "      <td>0</td>\n",
       "      <td>0</td>\n",
       "      <td>1</td>\n",
       "      <td>1</td>\n",
       "      <td>0</td>\n",
       "    </tr>\n",
       "    <tr>\n",
       "      <th>4</th>\n",
       "      <td>1</td>\n",
       "      <td>0</td>\n",
       "      <td>0</td>\n",
       "      <td>0</td>\n",
       "      <td>0</td>\n",
       "      <td>0</td>\n",
       "      <td>0</td>\n",
       "      <td>1</td>\n",
       "      <td>0</td>\n",
       "      <td>0</td>\n",
       "      <td>...</td>\n",
       "      <td>0</td>\n",
       "      <td>1</td>\n",
       "      <td>0</td>\n",
       "      <td>0</td>\n",
       "      <td>0</td>\n",
       "      <td>0</td>\n",
       "      <td>1</td>\n",
       "      <td>1</td>\n",
       "      <td>1</td>\n",
       "      <td>0</td>\n",
       "    </tr>\n",
       "  </tbody>\n",
       "</table>\n",
       "<p>5 rows × 27 columns</p>\n",
       "</div>"
      ],
      "text/plain": [
       "   Workclass_ Private  Education_ Assoc-acdm  Education_ Assoc-voc  \\\n",
       "0                   0                      0                     0   \n",
       "1                   1                      0                     1   \n",
       "2                   1                      0                     0   \n",
       "3                   0                      0                     0   \n",
       "4                   1                      0                     0   \n",
       "\n",
       "   Education_ Bachelors  Education_ Doctorate  Education_ HS-grad  \\\n",
       "0                     1                     0                   0   \n",
       "1                     0                     0                   0   \n",
       "2                     1                     0                   0   \n",
       "3                     1                     0                   0   \n",
       "4                     0                     0                   0   \n",
       "\n",
       "   Education_ Masters  Education_ Some-college  \\\n",
       "0                   0                        0   \n",
       "1                   0                        0   \n",
       "2                   0                        0   \n",
       "3                   0                        0   \n",
       "4                   0                        1   \n",
       "\n",
       "   Marital_Status_ Married-civ-spouse  Occupation_ Adm-clerical  ...  \\\n",
       "0                                   0                         1  ...   \n",
       "1                                   1                         0  ...   \n",
       "2                                   0                         0  ...   \n",
       "3                                   0                         0  ...   \n",
       "4                                   0                         0  ...   \n",
       "\n",
       "   Relationship_ Husband  Relationship_ Not-in-family  \\\n",
       "0                      0                            1   \n",
       "1                      1                            0   \n",
       "2                      0                            0   \n",
       "3                      0                            1   \n",
       "4                      0                            1   \n",
       "\n",
       "   Relationship_ Other-relative  Relationship_ Own-child  \\\n",
       "0                             0                        0   \n",
       "1                             0                        0   \n",
       "2                             0                        0   \n",
       "3                             0                        0   \n",
       "4                             0                        0   \n",
       "\n",
       "   Relationship_ Unmarried  Relationship_ Wife  Race_ White  Sex_ Male  \\\n",
       "0                        0                   0            1          1   \n",
       "1                        0                   0            1          1   \n",
       "2                        1                   0            1          0   \n",
       "3                        0                   0            0          1   \n",
       "4                        0                   0            1          1   \n",
       "\n",
       "   Native_Country_ United-States  Class_ >50K  \n",
       "0                              1            0  \n",
       "1                              1            1  \n",
       "2                              1            1  \n",
       "3                              1            0  \n",
       "4                              1            0  \n",
       "\n",
       "[5 rows x 27 columns]"
      ]
     },
     "execution_count": 62,
     "metadata": {},
     "output_type": "execute_result"
    }
   ],
   "source": [
    "df_train_3_cat.head()"
   ]
  },
  {
   "cell_type": "code",
   "execution_count": 67,
   "id": "bbb4d96b",
   "metadata": {},
   "outputs": [],
   "source": [
    "final_train_df=pd.concat([df_train_3_num,df_train_3_cat],axis=1)"
   ]
  },
  {
   "cell_type": "code",
   "execution_count": 70,
   "id": "e3b7cba3",
   "metadata": {},
   "outputs": [],
   "source": [
    "final_train_df.to_csv('Processed_Train_Data.csv',index=False)"
   ]
  },
  {
   "cell_type": "code",
   "execution_count": null,
   "id": "9a5566ad",
   "metadata": {},
   "outputs": [],
   "source": []
  }
 ],
 "metadata": {
  "kernelspec": {
   "display_name": "Python 3",
   "language": "python",
   "name": "python3"
  },
  "language_info": {
   "codemirror_mode": {
    "name": "ipython",
    "version": 3
   },
   "file_extension": ".py",
   "mimetype": "text/x-python",
   "name": "python",
   "nbconvert_exporter": "python",
   "pygments_lexer": "ipython3",
   "version": "3.8.8"
  },
  "widgets": {
   "application/vnd.jupyter.widget-state+json": {
    "state": {},
    "version_major": 2,
    "version_minor": 0
   }
  }
 },
 "nbformat": 4,
 "nbformat_minor": 5
}
